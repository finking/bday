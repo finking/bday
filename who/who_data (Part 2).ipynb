{
 "cells": [
  {
   "cell_type": "markdown",
   "metadata": {},
   "source": [
    "# Анализ данных Всемирной организации здравохранения\n"
   ]
  },
  {
   "cell_type": "markdown",
   "metadata": {},
   "source": [
    "## Часть 2. Получение данных по определенному индикатору"
   ]
  },
  {
   "cell_type": "markdown",
   "metadata": {},
   "source": [
    "**Введение**<br>\n",
    "В первой части мы загрузили Размерности и Индикаторы (Dimension и Indicator соответственно) в соответствующий файл Excel.<br>\n",
    "Открыв этот файл, можно увидеть громадное количество Индикаторов.\n",
    "В этом документe Notebook будет рассмотрен *\"Life expectancy at birth\"*. Ему соответствует код *\"WHOSIS_000001\"*, который и будет использован для запроса с сайта ВОЗ.\n",
    "\n",
    "Загружаем необходимые модули."
   ]
  },
  {
   "cell_type": "code",
   "execution_count": 1,
   "metadata": {},
   "outputs": [],
   "source": [
    "import pandas as pd\n",
    "import requests"
   ]
  },
  {
   "cell_type": "markdown",
   "metadata": {},
   "source": [
    "В переменной *name* указываем интересующий нас индикатор (в нашем случае \"Life expectancy at birth\").<br>\n",
    "В *file_name* определяется название Excel-файла, в который мы будем записывать полученные данные.<br>\n",
    "Затем в переменную *indicator_code* записываем код нашего индикатора.<br>\n",
    "(Полный список Индикатор и соответствующих им кодов представлен в файле \"who_begin.xlsx\".)"
   ]
  },
  {
   "cell_type": "code",
   "execution_count": 2,
   "metadata": {},
   "outputs": [],
   "source": [
    "# Список перемееных\n",
    "name = \"Life expectancy at birth\"\n",
    "file_name = \"{}.xlsx\".format(name)\n",
    "#sheet_name = \"Life expectancy at birth\"\n",
    "indicator_code = \"WHOSIS_000001\"\n",
    "\n",
    "url_indicator = \"https://ghoapi.azureedge.net/api/{}\".format(indicator_code)"
   ]
  },
  {
   "cell_type": "markdown",
   "metadata": {},
   "source": [
    "**Функция для получения данных.<br>**\n",
    "Как и в случае получения списков Размерностей и Индикатор, необходимые данные хранятся в ключе *value*. \n",
    "Далее делаем запрос. Сохраняем данные в dataframe, удаляя столбцы, в которых нет значений.\n",
    "\n",
    "И, наконец, выводим первые пять строчек.<br>\n",
    "(В столбце *Comments* есть не все значения, поэтому у первых 5 строк указано None)."
   ]
  },
  {
   "cell_type": "code",
   "execution_count": 3,
   "metadata": {},
   "outputs": [],
   "source": [
    "# Функция для получения данных с сайта ВОЗ\n",
    "def retrieving_data(url):\n",
    "    request = requests.get(url)\n",
    "    json_response = request.json()\n",
    "\n",
    "    return json_response[\"value\"]"
   ]
  },
  {
   "cell_type": "code",
   "execution_count": 4,
   "metadata": {},
   "outputs": [
    {
     "data": {
      "text/html": [
       "<div>\n",
       "<style scoped>\n",
       "    .dataframe tbody tr th:only-of-type {\n",
       "        vertical-align: middle;\n",
       "    }\n",
       "\n",
       "    .dataframe tbody tr th {\n",
       "        vertical-align: top;\n",
       "    }\n",
       "\n",
       "    .dataframe thead th {\n",
       "        text-align: right;\n",
       "    }\n",
       "</style>\n",
       "<table border=\"1\" class=\"dataframe\">\n",
       "  <thead>\n",
       "    <tr style=\"text-align: right;\">\n",
       "      <th></th>\n",
       "      <th>Comments</th>\n",
       "      <th>Date</th>\n",
       "      <th>Dim1</th>\n",
       "      <th>Dim1Type</th>\n",
       "      <th>Id</th>\n",
       "      <th>IndicatorCode</th>\n",
       "      <th>NumericValue</th>\n",
       "      <th>SpatialDim</th>\n",
       "      <th>SpatialDimType</th>\n",
       "      <th>TimeDim</th>\n",
       "      <th>TimeDimType</th>\n",
       "      <th>Value</th>\n",
       "    </tr>\n",
       "  </thead>\n",
       "  <tbody>\n",
       "    <tr>\n",
       "      <th>0</th>\n",
       "      <td>None</td>\n",
       "      <td>2017-03-31T08:14:36.203+02:00</td>\n",
       "      <td>MLE</td>\n",
       "      <td>SEX</td>\n",
       "      <td>15578241</td>\n",
       "      <td>WHOSIS_000001</td>\n",
       "      <td>42.99474</td>\n",
       "      <td>RWA</td>\n",
       "      <td>COUNTRY</td>\n",
       "      <td>2000</td>\n",
       "      <td>YEAR</td>\n",
       "      <td>43.0</td>\n",
       "    </tr>\n",
       "    <tr>\n",
       "      <th>1</th>\n",
       "      <td>None</td>\n",
       "      <td>2017-03-31T08:14:36.36+02:00</td>\n",
       "      <td>FMLE</td>\n",
       "      <td>SEX</td>\n",
       "      <td>15578243</td>\n",
       "      <td>WHOSIS_000001</td>\n",
       "      <td>48.38779</td>\n",
       "      <td>RWA</td>\n",
       "      <td>COUNTRY</td>\n",
       "      <td>2000</td>\n",
       "      <td>YEAR</td>\n",
       "      <td>48.4</td>\n",
       "    </tr>\n",
       "    <tr>\n",
       "      <th>2</th>\n",
       "      <td>None</td>\n",
       "      <td>2017-03-31T08:14:36.453+02:00</td>\n",
       "      <td>BTSX</td>\n",
       "      <td>SEX</td>\n",
       "      <td>15578245</td>\n",
       "      <td>WHOSIS_000001</td>\n",
       "      <td>45.70058</td>\n",
       "      <td>RWA</td>\n",
       "      <td>COUNTRY</td>\n",
       "      <td>2000</td>\n",
       "      <td>YEAR</td>\n",
       "      <td>45.7</td>\n",
       "    </tr>\n",
       "    <tr>\n",
       "      <th>3</th>\n",
       "      <td>None</td>\n",
       "      <td>2017-03-31T08:14:36.58+02:00</td>\n",
       "      <td>MLE</td>\n",
       "      <td>SEX</td>\n",
       "      <td>15578247</td>\n",
       "      <td>WHOSIS_000001</td>\n",
       "      <td>43.48892</td>\n",
       "      <td>RWA</td>\n",
       "      <td>COUNTRY</td>\n",
       "      <td>2001</td>\n",
       "      <td>YEAR</td>\n",
       "      <td>43.5</td>\n",
       "    </tr>\n",
       "    <tr>\n",
       "      <th>4</th>\n",
       "      <td>None</td>\n",
       "      <td>2017-03-31T08:14:36.687+02:00</td>\n",
       "      <td>FMLE</td>\n",
       "      <td>SEX</td>\n",
       "      <td>15578249</td>\n",
       "      <td>WHOSIS_000001</td>\n",
       "      <td>49.49390</td>\n",
       "      <td>RWA</td>\n",
       "      <td>COUNTRY</td>\n",
       "      <td>2001</td>\n",
       "      <td>YEAR</td>\n",
       "      <td>49.5</td>\n",
       "    </tr>\n",
       "  </tbody>\n",
       "</table>\n",
       "</div>"
      ],
      "text/plain": [
       "  Comments                           Date  Dim1 Dim1Type        Id  \\\n",
       "0     None  2017-03-31T08:14:36.203+02:00   MLE      SEX  15578241   \n",
       "1     None   2017-03-31T08:14:36.36+02:00  FMLE      SEX  15578243   \n",
       "2     None  2017-03-31T08:14:36.453+02:00  BTSX      SEX  15578245   \n",
       "3     None   2017-03-31T08:14:36.58+02:00   MLE      SEX  15578247   \n",
       "4     None  2017-03-31T08:14:36.687+02:00  FMLE      SEX  15578249   \n",
       "\n",
       "   IndicatorCode  NumericValue SpatialDim SpatialDimType  TimeDim TimeDimType  \\\n",
       "0  WHOSIS_000001      42.99474        RWA        COUNTRY     2000        YEAR   \n",
       "1  WHOSIS_000001      48.38779        RWA        COUNTRY     2000        YEAR   \n",
       "2  WHOSIS_000001      45.70058        RWA        COUNTRY     2000        YEAR   \n",
       "3  WHOSIS_000001      43.48892        RWA        COUNTRY     2001        YEAR   \n",
       "4  WHOSIS_000001      49.49390        RWA        COUNTRY     2001        YEAR   \n",
       "\n",
       "  Value  \n",
       "0  43.0  \n",
       "1  48.4  \n",
       "2  45.7  \n",
       "3  43.5  \n",
       "4  49.5  "
      ]
     },
     "execution_count": 4,
     "metadata": {},
     "output_type": "execute_result"
    }
   ],
   "source": [
    "# Совершаем запрос данных\n",
    "indicator = retrieving_data(url_indicator)\n",
    "df_indicator = pd.DataFrame(indicator).dropna(axis=1, how='all')\n",
    "df_indicator.head()"
   ]
  },
  {
   "cell_type": "markdown",
   "metadata": {},
   "source": [
    "**Запись в эксель.<br>**\n",
    "Для записи в эксель используется *ExcelWriter* с движком *xlsxwriter*.\n",
    "\n",
    "Сначала создаем экземпляр Pandas Excel writer и записываем данные по Индикатру в Excel.\n",
    "\n",
    "Затем делаем небольшое форматирование, чтобы легче было просматривать получившийся файл.\n",
    "\n",
    "И закрываем экземпляр Pandas Excel writer"
   ]
  },
  {
   "cell_type": "code",
   "execution_count": 6,
   "metadata": {},
   "outputs": [],
   "source": [
    "# Создание экземпляра Pandas Excel writer\n",
    "# Create a Pandas Excel writer using XlsxWriter as the engine.\n",
    "writer = pd.ExcelWriter(file_name, engine='xlsxwriter')\n",
    "\n",
    "# Конвертирование датафрейма в XlsxWriter Excel объект\n",
    "# Convert the dataframe to an XlsxWriter Excel object.\n",
    "df_indicator.to_excel(writer)\n",
    "\n",
    "# Получение xlsxwriter объекта writer.book\n",
    "# Get the xlsxwriter objects from the dataframe writer object.\n",
    "workbook  = writer.book\n",
    "\n",
    "# Получение xlsxwriter объекта writer.sheets\n",
    "# Get the xlsxwriter objects from the dataframe writer object.\n",
    "worksheet = writer.sheets['Sheet1']\n",
    "worksheet.set_column(\"A:A\", 5)\n",
    "worksheet.set_column(\"B:B\", 40)\n",
    "worksheet.set_column(\"C:C\", 10)\n",
    "\n",
    "# Закрытие Pandas Excel writer и запись в Эксель файл\n",
    "# Close the Pandas Excel writer and output the Excel file.\n",
    "writer.save()"
   ]
  },
  {
   "cell_type": "markdown",
   "metadata": {},
   "source": [
    "**Окончание.**<br>\n",
    "В получившимся Excel файле (название файла указана в переменной *file_name*) содержатся данные по всем странам по указанному Индикатору. Эти данные обрабатываются уже в последней 3-ей части."
   ]
  }
 ],
 "metadata": {
  "kernelspec": {
   "display_name": "Python 3",
   "language": "python",
   "name": "python3"
  },
  "language_info": {
   "codemirror_mode": {
    "name": "ipython",
    "version": 3
   },
   "file_extension": ".py",
   "mimetype": "text/x-python",
   "name": "python",
   "nbconvert_exporter": "python",
   "pygments_lexer": "ipython3",
   "version": "3.7.3"
  }
 },
 "nbformat": 4,
 "nbformat_minor": 2
}
