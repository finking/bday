{
 "cells": [
  {
   "cell_type": "markdown",
   "metadata": {},
   "source": [
    "# Анализ данных Всемирной организации здравохранения"
   ]
  },
  {
   "cell_type": "markdown",
   "metadata": {},
   "source": [
    "## Часть 1. Получение главных \"Величин\": Dimension и Indicator"
   ]
  },
  {
   "cell_type": "markdown",
   "metadata": {},
   "source": [
    "**Введение.<br>**\n",
    "Данные на сайте ВОЗа хранятся в двух главных \"величинах\": *Dimension* и *Indicator*.\n",
    "Чтобы при изучении того или иного параметра их каждый раз не загружать, делаем это один раз в отдельном документе (в этом).\n",
    "\n",
    "Сначала импортируем необходимые модули и объявляем переменные.<br>\n",
    "*file_name* - имя файла, в который будем записывать полученные данные<br>\n",
    "*url_dimension* и *url_indicator* ссылки на Размерности и Индикаторы соотвественно.\n"
   ]
  },
  {
   "cell_type": "code",
   "execution_count": 1,
   "metadata": {},
   "outputs": [],
   "source": [
    "import pandas as pd\n",
    "import requests"
   ]
  },
  {
   "cell_type": "code",
   "execution_count": null,
   "metadata": {},
   "outputs": [],
   "source": [
    "# Список перемееных\n",
    "file_name = \"who_begin.xlsx\"\n",
    "\n",
    "# Список url\n",
    "\n",
    "# Величины\n",
    "url_dimension = \"https://ghoapi.azureedge.net/api/Dimension\" \n",
    "\n",
    "# Индикаторы\n",
    "url_indicator = \"https://ghoapi.azureedge.net/api/Indicator\""
   ]
  },
  {
   "cell_type": "markdown",
   "metadata": {},
   "source": [
    "**Функция для получения данных.<br>**\n",
    "В нашем случае, все необходимые данные хранятся в ключе *value*. Поэтому обрабатываеть будем только его.\n",
    "\n",
    "Далее делаем запрос. Сохраняем данные в соответствующие переменные, преобразовав в dataframe.\n",
    "\n",
    "И, наконец, вывод первых пяти строчек таблицы Индикаторов.<br>\n",
    "Чтобы проверить таблицу с Размерностями, нужно расхоментировать соответствующую строчку."
   ]
  },
  {
   "cell_type": "code",
   "execution_count": null,
   "metadata": {},
   "outputs": [],
   "source": [
    "# Функция для получения данных с сайта ВОЗ\n",
    "def retrieving_data(url):\n",
    "    request = requests.get(url)\n",
    "    json_response = request.json()\n",
    "\n",
    "    return json_response['value']"
   ]
  },
  {
   "cell_type": "code",
   "execution_count": null,
   "metadata": {},
   "outputs": [],
   "source": [
    "# Совершаем запрос данных\n",
    "dimension = retrieving_data(url_dimension)\n",
    "indicator = retrieving_data(url_indicator)\n",
    "\n",
    "df_dimension = pd.DataFrame(dimension)\n",
    "df_indicator = pd.DataFrame(indicator)\n",
    "\n",
    "# df_dimension.head()\n",
    "df_indicator.head()"
   ]
  },
  {
   "cell_type": "markdown",
   "metadata": {},
   "source": [
    "**Запись в эксель.<br>**\n",
    "Для записи в эксель используется *ExcelWriter* с движком *xlsxwriter*.\n",
    "\n",
    "Сначала создаем экземпляр Pandas Excel writer и используем его для записи наших датафрейм. *dimension* (размерности) и *indicator* (индикаторы) записываем в соответствующие листы в Книге Excel.\n",
    "\n",
    "Затем делаем небольшое форматирование, чтобы легче было просматривать получившийся файл.\n",
    "\n",
    "И закрываем экземпляр Pandas Excel writer\n"
   ]
  },
  {
   "cell_type": "code",
   "execution_count": null,
   "metadata": {},
   "outputs": [],
   "source": [
    "# Создание экземпляра Pandas Excel writer\n",
    "# Create a Pandas Excel writer using XlsxWriter as the engine.\n",
    "writer = pd.ExcelWriter(file_name, engine='xlsxwriter')\n",
    "\n",
    "# Конвертирование датафрейма в XlsxWriter Excel объект\n",
    "# Convert the dataframe to an XlsxWriter Excel object.\n",
    "df_dimension.to_excel(writer, sheet_name='dimension')\n",
    "df_indicator.to_excel(writer, sheet_name='indicator')\n",
    "\n",
    "\n",
    "# Получение xlsxwriter объекта writer.book\n",
    "# Get the xlsxwriter objects from the dataframe writer object.\n",
    "workbook  = writer.book\n",
    "\n",
    "# Получение xlsxwriter объекта writer.sheets\n",
    "# Get the xlsxwriter objects from the dataframe writer object.\n",
    "worksheet = writer.sheets['dimension']\n",
    "worksheet.set_column(\"A:A\", 5)\n",
    "worksheet.set_column(\"B:C\", 45)\n",
    "\n",
    "worksheet = writer.sheets['indicator']\n",
    "worksheet.set_column(\"A:A\", 5)\n",
    "worksheet.set_column(\"B:B\", 30)\n",
    "worksheet.set_column(\"C:C\", 100)\n",
    "\n",
    "# Закрытие Pandas Excel writer и запись в Эксель файл\n",
    "# Close the Pandas Excel writer and output the Excel file.\n",
    "writer.save()"
   ]
  },
  {
   "cell_type": "markdown",
   "metadata": {},
   "source": [
    "**Окончание.**<br>\n",
    "После загрузки данных этот notebook нам больше не нужен. Запускать его больше не надо.<br>\n",
    "В получившимся Excel файле (название файла указана в переменной *file_name*) содержатся все Размерности и Индикаторы, а также их Коды, которые потребуются в следующей части."
   ]
  }
 ],
 "metadata": {
  "kernelspec": {
   "display_name": "Python 3",
   "language": "python",
   "name": "python3"
  },
  "language_info": {
   "codemirror_mode": {
    "name": "ipython",
    "version": 3
   },
   "file_extension": ".py",
   "mimetype": "text/x-python",
   "name": "python",
   "nbconvert_exporter": "python",
   "pygments_lexer": "ipython3",
   "version": "3.7.3"
  }
 },
 "nbformat": 4,
 "nbformat_minor": 2
}
