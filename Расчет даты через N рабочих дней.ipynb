{
 "cells": [
  {
   "cell_type": "markdown",
   "metadata": {},
   "source": [
    "# Расчет даты через N рабочих дней.\n",
    "# Либо рассчитать количество рабочих дней между двумя датами."
   ]
  },
  {
   "cell_type": "markdown",
   "metadata": {},
   "source": [
    "## [Содержание:](#Content)\n",
    "> [**Задача №1. <br>\n",
    "Поставщик поставил товар сегодня. По условиям договора нужно заплатить через 20 рабочих дней.<br>\n",
    "Найти дату оплаты.**](#task_one)\n",
    "\n",
    "> [**Задача №2. <br>\n",
    "Посчитать количество рабочих дней между двумя датами. <br>\n",
    "Часть 1.**](#task_two_part1)\n",
    "> [**<br>Часть 2. Добавление интерактива**](#task_two_part2)\n"
   ]
  },
  {
   "cell_type": "markdown",
   "metadata": {},
   "source": [
    "## <a name=\"task_one\"> Задача №1: Поставщик поставил товар сегодня. По условиям договора нужно заплатить через 20 рабочих дней. Найти дату оплаты.</a>"
   ]
  },
  {
   "cell_type": "markdown",
   "metadata": {},
   "source": [
    "Можно использодвать имеющуюся в Pandas функцию BDay (pandas.tseries.offsets.BDay). Но в неё включены только \"календарные\" выходные, т.е. суббота и воскресенье!\n",
    "Чтобы учитывать национальные праздники, нужно создать собственный класс, используя *AbstractHolidayCalendar*.\n",
    "\n",
    "В созданном классе **RUBusinessCalendar** прописываем все национальные праздники используя *rules* и *Holiday*.\n",
    "Если праздник приходится на выходной день (сб, вс), то следующий понедельник будет выходной. Это достигается через *observance = next_monday*\n",
    "\n",
    "В переменной **Bdays** указываем количество рабочих дней, которые нам известны по задаче, а именно: 20.\n",
    "\n",
    "Переменные **out_format** и **out_fone** используются для форматирования текста в ячейках вывода (OUT)"
   ]
  },
  {
   "cell_type": "code",
   "execution_count": 1,
   "metadata": {},
   "outputs": [],
   "source": [
    "# Импорт необходимых модулей.\n",
    "from pandas.tseries.offsets import CustomBusinessDay\n",
    "from pandas.tseries.holiday import AbstractHolidayCalendar, next_monday, Holiday\n",
    "from pandas import Timestamp, date_range\n",
    "from datetime import datetime\n",
    "from termcolor import colored\n",
    "\n",
    "# Создание собственного календаря, в который вносим все официальные праздники (В данном случае России)\n",
    "class RUBusinessCalendar(AbstractHolidayCalendar):\n",
    "    rules = [\n",
    "        Holiday('Новый год', month = 1, day = 1),\n",
    "        Holiday('Новый год', month = 1, day = 2),\n",
    "        Holiday('Новый год', month = 1, day = 3),\n",
    "        Holiday('Новый год', month = 1, day = 4),\n",
    "        Holiday('Новый год', month = 1, day = 5),\n",
    "        Holiday('Новый год', month = 1, day = 6),\n",
    "        Holiday('Рождество', month = 1, day = 7),\n",
    "        Holiday('Новый год', month = 1, day = 8),\n",
    "        \n",
    "        Holiday('День защитника Отечества', month = 2, day = 23, observance = next_monday),       \n",
    "        Holiday('Международный женский день', month = 3, day = 8, observance = next_monday),\n",
    "        \n",
    "        Holiday('Праздник Весны и Труда', month = 5, day = 1, observance = next_monday),\n",
    "        Holiday('День Победы', month = 5, day = 9, observance = next_monday),\n",
    "        \n",
    "        Holiday('День России', month = 6, day = 12, observance = next_monday),\n",
    "        Holiday('День народного единства', month = 11, day = 4, observance = next_monday)        \n",
    "    ]\n",
    "    \n",
    "#Кол-во рабочих дней когда нужно заплатить (в нашем случае 20)\n",
    "Bdays = 20    \n",
    "\n",
    "# Формат текста для вывода\n",
    "out_format = ['bold', 'underline']\n",
    "\n",
    "# Фон текста для вывода\n",
    "out_fone = 'on_white' # возможные варианты 'on_red', 'on_yellow' и т.д."
   ]
  },
  {
   "cell_type": "markdown",
   "metadata": {},
   "source": [
    "Создаем экземпляр Класса *CustomBusinessDay* и в нем присваиваем **n** наши искомые рабочие дни (по-умолчанию n=1) и наш созданный календарь *RUBusinessCalendar*.\n",
    "\n",
    "В переменной **ts** указываем сегодняшнюю дату.\n",
    "\n",
    "В функции *print* используется модуль *colored* для форматирования текста в ячейках вывода.\n",
    "<br>(Модуль *colored* устанавливается дополнительно).<br>\n",
    "Также прописываем аттрибуты *attrs* и *on_color*."
   ]
  },
  {
   "cell_type": "code",
   "execution_count": 2,
   "metadata": {},
   "outputs": [
    {
     "name": "stdout",
     "output_type": "stream",
     "text": [
      "\u001b[4m\u001b[1m\u001b[47mОтвет:\u001b[0m\n",
      "\u001b[4m\u001b[1m\u001b[47mЧерез 20 рабочих дней будет: 23.06.2020\u001b[0m\n"
     ]
    }
   ],
   "source": [
    "# Создание экземпляра класса CustomBusinessDay, в котором указываем необходимое количество дней \n",
    "# и наш пользовательский календарь\n",
    "rus_calendar = CustomBusinessDay(n= Bdays, calendar=RUBusinessCalendar())\n",
    "\n",
    "# Сегодняшняя дата\n",
    "ts = datetime.now()\n",
    "\n",
    "# Вывод на экран\n",
    "print(colored('Ответ:', attrs=out_format, on_color=out_fone))\n",
    "print(colored('Через {} рабочих дней будет: {}'.format(Bdays, (ts + rus_calendar).strftime(\"%d.%m.%Y\")), \n",
    "              attrs= out_format, on_color=out_fone))"
   ]
  },
  {
   "cell_type": "markdown",
   "metadata": {},
   "source": [
    "## <a name=\"task_two_part1\">Задача №2. Посчитать количество рабочих дней между двумя датами.<br> Часть1: </a>"
   ]
  },
  {
   "cell_type": "markdown",
   "metadata": {},
   "source": [
    "Допустим что стоит обратная задача. Есть две даты и нужно вычислить количество рабочих дней между ними.\n",
    "\n",
    "Взял дату создания этого документа в качестве начальной даты (20.05.2020).\n",
    "В качестве конечной взял 18 июня 2020 года, чтобы в указанном промежутки был национальный праздик (12.06.2020).\n",
    "\n",
    "Снова создаем экземпляр Класса *CustomBusinessDay*. Но теперь указыаем только созданный календарь *RUBusinessCalendar* (т.е. N=1).\n",
    "\n",
    "Далее создаем рабочие дни между начальной и конечной датами (*dt*). Считаем кол-во элементов через встроенную функцию *len* и выводим ответ."
   ]
  },
  {
   "cell_type": "code",
   "execution_count": 3,
   "metadata": {},
   "outputs": [
    {
     "name": "stdout",
     "output_type": "stream",
     "text": [
      "\u001b[4m\u001b[1m\u001b[47mОтвет:\u001b[0m\n",
      "\u001b[4m\u001b[1m\u001b[47mКоличество рабочих дней между 20.05.2020 и 18.06.2020 равно 20.\u001b[0m\n"
     ]
    }
   ],
   "source": [
    "# Начальная дата\n",
    "start_date = '20.05.2020' # формат дд.мм.гггг\n",
    "\n",
    "# Конечная дата\n",
    "end_date = '18.06.2020' # формат дд.мм.гггг\n",
    "\n",
    "# Создание экземпляра класса CustomBusinessDay, в котором только наш пользовательский календарь\n",
    "rus_calendar2 = CustomBusinessDay(calendar=RUBusinessCalendar())\n",
    "\n",
    "# Определение диапазона между двумя датами.\n",
    "dt = date_range(start=start_date, end=end_date, freq=rus_calendar2, tz=\"Europe/Moscow\")\n",
    "\n",
    "# Расчет рабочих дней\n",
    "dt_business = len(dt)-1\n",
    "\n",
    "# Вывод на экран\n",
    "print(colored('Ответ:', attrs= out_format, on_color=out_fone))\n",
    "print(colored('Количество рабочих дней между {} и {} равно {}.'.format(start_date,end_date, dt_business), \n",
    "              attrs=out_format, on_color=out_fone))"
   ]
  },
  {
   "cell_type": "markdown",
   "metadata": {},
   "source": [
    "## <a name=\"task_two_part2\"> Задача 2. Часть 2. Добавление интерактива </a>"
   ]
  },
  {
   "cell_type": "markdown",
   "metadata": {},
   "source": [
    "Чтобы не вводить даты вручную можно использовать виджеты, в которых можно выбрать дату:"
   ]
  },
  {
   "attachments": {
    "image.png": {
     "image/png": "[encoded data removed]"
    }
   },
   "cell_type": "markdown",
   "metadata": {},
   "source": [
    "![image.png](attachment:image.png)"
   ]
  },
  {
   "cell_type": "markdown",
   "metadata": {},
   "source": [
    "Для этого загужаем виджеты для Календаря и Кнопок."
   ]
  },
  {
   "cell_type": "code",
   "execution_count": 4,
   "metadata": {},
   "outputs": [],
   "source": [
    "# Загрузка модулей\n",
    "from IPython.display import display\n",
    "from ipywidgets import DatePicker, Button, Layout"
   ]
  },
  {
   "cell_type": "markdown",
   "metadata": {},
   "source": [
    "Далее пишем функцию, в которой считаются рабочие дни."
   ]
  },
  {
   "cell_type": "code",
   "execution_count": 5,
   "metadata": {},
   "outputs": [],
   "source": [
    "def count_bday(sdate, edate):\n",
    "    # Начальная дата\n",
    "    start_date = sdate.strftime(\"%d.%m.%Y\")\n",
    "#     print(start_date)\n",
    "\n",
    "    # Конечная дата\n",
    "    end_date = edate.strftime(\"%d.%m.%Y\")\n",
    "#     print(end_date)\n",
    "\n",
    "    # Определение диапазона между двумя датами.\n",
    "    dt = date_range(start=start_date, end=end_date, freq=rus_calendar2, tz=\"Europe/Moscow\")\n",
    "\n",
    "    # Расчет рабочих дней\n",
    "    dt_business = len(dt)-1\n",
    "#     print(dt_business)\n",
    "\n",
    "    # Вывод на экран\n",
    "    print(colored('Ответ:', attrs= out_format, on_color=out_fone))\n",
    "    print(colored('Количество рабочих дней между {} и {} равно {}.'.format(start_date,end_date, dt_business), \n",
    "                  attrs=out_format, on_color=out_fone))"
   ]
  },
  {
   "cell_type": "markdown",
   "metadata": {},
   "source": [
    "Создаем виджеты **DatePicker** и **Button** (для двух Календарей для одной кнопки).\n",
    "\n",
    "По-умолчанию, дата в первом календаре будет текущая дата. Во-втором - текущая дата плюс Bdays (в первой задаче равнялось 20).\n",
    "\n",
    "После создания виджетов указываем необходимые для нас форматы.\n",
    "\n",
    "Затем создаем функции для обработки событий при нажатии на кнопку или при выборе новой даты.\n",
    "\n",
    "Отслеживаем события при помощи *observe* для **DatePicker** и *on_click* для **Button**.\n",
    "\n",
    "И, наконец, отображаем виджеты с помощью *display*."
   ]
  },
  {
   "cell_type": "code",
   "execution_count": 6,
   "metadata": {},
   "outputs": [
    {
     "data": {
      "application/vnd.jupyter.widget-view+json": {
       "model_id": "d639b341d73e4bada0cceae48b35eb71",
       "version_major": 2,
       "version_minor": 0
      },
      "text/plain": [
       "DatePicker(value=datetime.datetime(2020, 5, 25, 16, 0, 35, 108995), description='Начальная дата:', style=Descr…"
      ]
     },
     "metadata": {},
     "output_type": "display_data"
    },
    {
     "data": {
      "application/vnd.jupyter.widget-view+json": {
       "model_id": "0327f07e99d947b384f836fa7f587fe2",
       "version_major": 2,
       "version_minor": 0
      },
      "text/plain": [
       "DatePicker(value=Timestamp('2020-06-23 16:00:35.108995'), description='Конечная дата:', style=DescriptionStyle…"
      ]
     },
     "metadata": {},
     "output_type": "display_data"
    },
    {
     "data": {
      "application/vnd.jupyter.widget-view+json": {
       "model_id": "416e630376094719af480bda5240cfcb",
       "version_major": 2,
       "version_minor": 0
      },
      "text/plain": [
       "Button(button_style='success', description='Посчитать дни', layout=Layout(margin='0 130px'), style=ButtonStyle…"
      ]
     },
     "metadata": {},
     "output_type": "display_data"
    }
   ],
   "source": [
    "# Установка календарей по-умолчанию.\n",
    "widget_start = ts # Сегодняшняя дата. Указывалась в самом начале.\n",
    "widget_end = ts + rus_calendar # Сегодняшняя дата + переменная Bdays\n",
    "\n",
    "# Создание виджера календаря для начальной даты\n",
    "dPicker = DatePicker(\n",
    "    description = 'Начальная дата:', \n",
    "    value = widget_start\n",
    ")\n",
    "\n",
    "# Создание виджера календаря для конечной даты\n",
    "dPicker2 = DatePicker(\n",
    "    description = 'Конечная дата:', \n",
    "    value = widget_end\n",
    ")\n",
    "\n",
    "# Создание кнопки\n",
    "btn = Button(\n",
    "    description='Посчитать дни',\n",
    "    button_style='success', # 'success', 'info', 'warning', 'danger' or ''\n",
    "    layout=Layout(margin='0 130px'),     \n",
    ")\n",
    "\n",
    "# Дополнительные форматы для виджетов\n",
    "dPicker.style.description_width='120px'\n",
    "dPicker2.style = dPicker.style\n",
    "dPicker2.layout = dPicker.layout\n",
    "btn.style.font_weight = 'bold'\n",
    "\n",
    "# Функции для обработки событий.\n",
    "def on_clicked_start_date(b):    \n",
    "    global widget_start, widget_end\n",
    "    widget_start =  b['new']\n",
    "    count_bday(widget_start, widget_end)\n",
    "    \n",
    "def on_clicked_end_date(b):\n",
    "    global widget_start, widget_end\n",
    "    widget_end = b['new']\n",
    "    count_bday(widget_start, widget_end)\n",
    "    \n",
    "def on_clicked_button(b):    \n",
    "    count_bday(widget_start, widget_end)    \n",
    "\n",
    "# Отслеживание событий    \n",
    "dPicker.observe(on_clicked_start_date, names='value')\n",
    "dPicker2.observe(on_clicked_end_date, names='value')\n",
    "btn.on_click(on_clicked_button)\n",
    "\n",
    "# Отображение виджетов\n",
    "display(dPicker, dPicker2, btn)"
   ]
  },
  {
   "cell_type": "markdown",
   "metadata": {},
   "source": [
    "**Ниже приведен скриншот с рабочего кода. На githube виджеты заблокированы. Поэтому вместо них и виден текст выше.**"
   ]
  },
  {
   "attachments": {
    "image.png": {
     "image/png": "[encoded data removed]"
    }
   },
   "cell_type": "markdown",
   "metadata": {},
   "source": [
    "![image.png](attachment:image.png)"
   ]
  }
 ],
 "metadata": {
  "celltoolbar": "Raw Cell Format",
  "kernelspec": {
   "display_name": "Python 3",
   "language": "python",
   "name": "python3"
  },
  "language_info": {
   "codemirror_mode": {
    "name": "ipython",
    "version": 3
   },
   "file_extension": ".py",
   "mimetype": "text/x-python",
   "name": "python",
   "nbconvert_exporter": "python",
   "pygments_lexer": "ipython3",
   "version": "3.7.3"
  },
  "widgets": {
   "application/vnd.jupyter.widget-state+json": {
    "state": {
     "00bfb970b992453ea5bd1dbd75e731b6": {
      "model_module": "@jupyter-widgets/base",
      "model_module_version": "1.1.0",
      "model_name": "LayoutModel",
      "state": {}
     },
     "011a21ab493d4a238960869dfc892b42": {
      "model_module": "@jupyter-widgets/controls",
      "model_module_version": "1.4.0",
      "model_name": "DescriptionStyleModel",
      "state": {
       "description_width": ""
      }
     },
     "058717dea89446819b1a5fa6f7e7ffb4": {
      "model_module": "@jupyter-widgets/controls",
      "model_module_version": "1.4.0",
      "model_name": "ButtonModel",
      "state": {
       "button_style": "success",
       "description": "Посчитать дни",
       "layout": "IPY_MODEL_1d22c397de2b491993caca8a1d37c1c9",
       "style": "IPY_MODEL_f9811ab342c94009843aa3ece978df00"
      }
     },
     "0628283c630848ebb64271f0559a27e6": {
      "model_module": "@jupyter-widgets/base",
      "model_module_version": "1.1.0",
      "model_name": "LayoutModel",
      "state": {
       "margin": "0 130px"
      }
     },
     "067cc292562747e69fbd3411e640ae3d": {
      "model_module": "@jupyter-widgets/controls",
      "model_module_version": "1.4.0",
      "model_name": "DescriptionStyleModel",
      "state": {
       "description_width": "120px"
      }
     },
     "06d7e5d9d2bf43c98e9191137bee6ccc": {
      "model_module": "@jupyter-widgets/base",
      "model_module_version": "1.1.0",
      "model_name": "LayoutModel",
      "state": {}
     },
     "087382a9dcec4f6d839c213a50650936": {
      "model_module": "@jupyter-widgets/base",
      "model_module_version": "1.1.0",
      "model_name": "LayoutModel",
      "state": {
       "margin": "0 130px"
      }
     },
     "08b042c052f74d45944774a5f9fceaff": {
      "model_module": "@jupyter-widgets/controls",
      "model_module_version": "1.4.0",
      "model_name": "ButtonModel",
      "state": {
       "button_style": "success",
       "description": "Посчитать дни",
       "layout": "IPY_MODEL_c91f788a426c40c29bd7021ea0e643f9",
       "style": "IPY_MODEL_1daa11418a3a4b6e82112e83348c504f"
      }
     },
     "09da5306104e47fdbc79ab3a83f07c8a": {
      "model_module": "@jupyter-widgets/controls",
      "model_module_version": "1.4.0",
      "model_name": "DatePickerModel",
      "state": {
       "description": "Начальная дата:",
       "disabled": false,
       "layout": "IPY_MODEL_431d0fe5bc94499ea14124e6feb4d6d1",
       "style": "IPY_MODEL_512ccf156fe440778818f7e8c628a2e4",
       "value": {
        "date": 20,
        "month": 4,
        "year": 2020
       }
      }
     },
     "0a24ca9dd58a42c48748aee1208eadbd": {
      "model_module": "@jupyter-widgets/controls",
      "model_module_version": "1.4.0",
      "model_name": "DatePickerModel",
      "state": {
       "description": "Конечная дата:",
       "disabled": false,
       "layout": "IPY_MODEL_a6019a75575d4fe7aed4343d043256a2",
       "style": "IPY_MODEL_8e336fcea2314c5fa1c171f63ed6e538",
       "value": {
        "date": 18,
        "month": 5,
        "year": 2020
       }
      }
     },
     "0ca0c9dc47eb4b959df5d115515e837c": {
      "model_module": "@jupyter-widgets/controls",
      "model_module_version": "1.4.0",
      "model_name": "ButtonStyleModel",
      "state": {
       "font_weight": "bold"
      }
     },
     "0ed9db371025466ba77282a13801f002": {
      "model_module": "@jupyter-widgets/controls",
      "model_module_version": "1.4.0",
      "model_name": "ButtonModel",
      "state": {
       "button_style": "success",
       "description": "Посчитать дни",
       "layout": "IPY_MODEL_5bb57a908d9d42aa828b8b6702645ac4",
       "style": "IPY_MODEL_13968a4a5a6a4e1abddc08eacc6ddd6f"
      }
     },
     "0ef7368a3d6b438cb3bd48606eef4a46": {
      "model_module": "@jupyter-widgets/controls",
      "model_module_version": "1.4.0",
      "model_name": "DescriptionStyleModel",
      "state": {
       "description_width": ""
      }
     },
     "1092e0e9fa4e4a54afbd51f571233a26": {
      "model_module": "@jupyter-widgets/controls",
      "model_module_version": "1.4.0",
      "model_name": "ButtonStyleModel",
      "state": {
       "font_weight": "bold"
      }
     },
     "10b2cad2ede64961990e794aa3f4ddd7": {
      "model_module": "@jupyter-widgets/base",
      "model_module_version": "1.1.0",
      "model_name": "LayoutModel",
      "state": {}
     },
     "11a2f5fdebcd425a96079d5020add361": {
      "model_module": "@jupyter-widgets/base",
      "model_module_version": "1.1.0",
      "model_name": "LayoutModel",
      "state": {
       "margin": "0 130px"
      }
     },
     "11d74abd8c3e43daa64fa257a4ed8e18": {
      "model_module": "@jupyter-widgets/base",
      "model_module_version": "1.1.0",
      "model_name": "LayoutModel",
      "state": {}
     },
     "11f3e7bcb61a4967b90aa9a9e73d6d86": {
      "model_module": "@jupyter-widgets/controls",
      "model_module_version": "1.4.0",
      "model_name": "DatePickerModel",
      "state": {
       "description": "Конечная дата:",
       "disabled": false,
       "layout": "IPY_MODEL_567b50fec5b648beb4e8ca8e4718e7c5",
       "style": "IPY_MODEL_40d6989f8ed34807813148cc5ae06e49",
       "value": {
        "date": 18,
        "month": 5,
        "year": 2020
       }
      }
     },
     "12de0159b6dd4aa8a8477d27688cee43": {
      "model_module": "@jupyter-widgets/controls",
      "model_module_version": "1.4.0",
      "model_name": "DescriptionStyleModel",
      "state": {
       "description_width": ""
      }
     },
     "13968a4a5a6a4e1abddc08eacc6ddd6f": {
      "model_module": "@jupyter-widgets/controls",
      "model_module_version": "1.4.0",
      "model_name": "ButtonStyleModel",
      "state": {
       "font_weight": "bold"
      }
     },
     "1529c5e854d443dfb114980ded488176": {
      "model_module": "@jupyter-widgets/controls",
      "model_module_version": "1.4.0",
      "model_name": "DescriptionStyleModel",
      "state": {
       "description_width": ""
      }
     },
     "178ea518b2664296a4e07d8abfce197f": {
      "model_module": "@jupyter-widgets/controls",
      "model_module_version": "1.4.0",
      "model_name": "DescriptionStyleModel",
      "state": {
       "description_width": ""
      }
     },
     "18f17fe6a0fe4a58886bd0d7d1af5135": {
      "model_module": "@jupyter-widgets/controls",
      "model_module_version": "1.4.0",
      "model_name": "ButtonModel",
      "state": {
       "button_style": "success",
       "description": "Посчитать дни",
       "layout": "IPY_MODEL_d93d343a591b4aa3881f469e871337e9",
       "style": "IPY_MODEL_91179acb85d646aca7f0c9b93810ef9e"
      }
     },
     "1978e4a6bf3d4a1c95cb108a6f624aed": {
      "model_module": "@jupyter-widgets/base",
      "model_module_version": "1.1.0",
      "model_name": "LayoutModel",
      "state": {}
     },
     "1c0465a05ce84b89ab1a4a316887c243": {
      "model_module": "@jupyter-widgets/base",
      "model_module_version": "1.1.0",
      "model_name": "LayoutModel",
      "state": {
       "margin": "0 130px"
      }
     },
     "1c122d08ceed42f2bfd1a7987f2e68ef": {
      "model_module": "@jupyter-widgets/base",
      "model_module_version": "1.1.0",
      "model_name": "LayoutModel",
      "state": {}
     },
     "1d00d01f1e2c478cabf10c317a2f0df0": {
      "model_module": "@jupyter-widgets/controls",
      "model_module_version": "1.4.0",
      "model_name": "DescriptionStyleModel",
      "state": {
       "description_width": ""
      }
     },
     "1d22c397de2b491993caca8a1d37c1c9": {
      "model_module": "@jupyter-widgets/base",
      "model_module_version": "1.1.0",
      "model_name": "LayoutModel",
      "state": {
       "margin": "0 130px"
      }
     },
     "1daa11418a3a4b6e82112e83348c504f": {
      "model_module": "@jupyter-widgets/controls",
      "model_module_version": "1.4.0",
      "model_name": "ButtonStyleModel",
      "state": {
       "font_weight": "bold"
      }
     },
     "1e9ac91252264469bda8819e128f06ab": {
      "model_module": "@jupyter-widgets/controls",
      "model_module_version": "1.4.0",
      "model_name": "DescriptionStyleModel",
      "state": {
       "description_width": ""
      }
     },
     "1eab9fafed2f463c808d65e663a76045": {
      "model_module": "@jupyter-widgets/controls",
      "model_module_version": "1.4.0",
      "model_name": "ButtonStyleModel",
      "state": {
       "font_weight": "bold"
      }
     },
     "1ecc61603949430bb0d2655b85d4caef": {
      "model_module": "@jupyter-widgets/controls",
      "model_module_version": "1.4.0",
      "model_name": "DatePickerModel",
      "state": {
       "description": "Конечная дата:",
       "disabled": false,
       "layout": "IPY_MODEL_dfc115349a224648a678fa3e9394bceb",
       "style": "IPY_MODEL_dca74365e62d4d0da6cd46e2ef3169bb",
       "value": {
        "date": 20,
        "month": 5,
        "year": 2020
       }
      }
     },
     "20865d31390a4d6fabf5f2828da7ad3d": {
      "model_module": "@jupyter-widgets/controls",
      "model_module_version": "1.4.0",
      "model_name": "DescriptionStyleModel",
      "state": {
       "description_width": ""
      }
     },
     "232306840dbb40b9b32117b7d88a465d": {
      "model_module": "@jupyter-widgets/controls",
      "model_module_version": "1.4.0",
      "model_name": "DescriptionStyleModel",
      "state": {
       "description_width": "120px"
      }
     },
     "23a56aee66c34f78934db9e94573ec6e": {
      "model_module": "@jupyter-widgets/controls",
      "model_module_version": "1.4.0",
      "model_name": "DatePickerModel",
      "state": {
       "description": "Начальная дата:",
       "disabled": false,
       "layout": "IPY_MODEL_1c122d08ceed42f2bfd1a7987f2e68ef",
       "style": "IPY_MODEL_7ec45456d8f84d018812f27be1de22d9",
       "value": {
        "date": 20,
        "month": 4,
        "year": 2020
       }
      }
     },
     "252db6d7a86c4885a2f4d77c6c747eea": {
      "model_module": "@jupyter-widgets/controls",
      "model_module_version": "1.4.0",
      "model_name": "DatePickerModel",
      "state": {
       "description": "Конечная дата:",
       "disabled": false,
       "layout": "IPY_MODEL_cba347bf4ca24d59aab21444f58f5791",
       "style": "IPY_MODEL_dc5c23d971bd4fbd99f4506bafc41a21",
       "value": {
        "date": 18,
        "month": 5,
        "year": 2020
       }
      }
     },
     "279cb428f7d241aaa49b3332b461f060": {
      "model_module": "@jupyter-widgets/controls",
      "model_module_version": "1.4.0",
      "model_name": "DatePickerModel",
      "state": {
       "description": "Начальная дата:",
       "disabled": false,
       "layout": "IPY_MODEL_a81dad361521468da1634971c9729ac1",
       "style": "IPY_MODEL_232306840dbb40b9b32117b7d88a465d",
       "value": {
        "date": 22,
        "month": 4,
        "year": 2020
       }
      }
     },
     "27e6955c15a44c5686f2a3a702ab748e": {
      "model_module": "@jupyter-widgets/controls",
      "model_module_version": "1.4.0",
      "model_name": "DescriptionStyleModel",
      "state": {
       "description_width": ""
      }
     },
     "28774119e0f447ba9434f8037e26d9b3": {
      "model_module": "@jupyter-widgets/base",
      "model_module_version": "1.1.0",
      "model_name": "LayoutModel",
      "state": {}
     },
     "28bcc8c9b0234b4cbf3c3def3cc5bd0c": {
      "model_module": "@jupyter-widgets/base",
      "model_module_version": "1.1.0",
      "model_name": "LayoutModel",
      "state": {}
     },
     "291ddbf8504c4ff68c2e929af95361de": {
      "model_module": "@jupyter-widgets/controls",
      "model_module_version": "1.4.0",
      "model_name": "ButtonStyleModel",
      "state": {
       "font_weight": "bold"
      }
     },
     "2adfda4fb3614859ad5d0bddc86581e0": {
      "model_module": "@jupyter-widgets/base",
      "model_module_version": "1.1.0",
      "model_name": "LayoutModel",
      "state": {}
     },
     "2bdd8a385f064d599676caf37ba7f1af": {
      "model_module": "@jupyter-widgets/controls",
      "model_module_version": "1.4.0",
      "model_name": "DescriptionStyleModel",
      "state": {
       "description_width": ""
      }
     },
     "2d8e307d0a504d929c14f9f05926e8bc": {
      "model_module": "@jupyter-widgets/controls",
      "model_module_version": "1.4.0",
      "model_name": "DatePickerModel",
      "state": {
       "description": "Начальная дата:",
       "disabled": false,
       "layout": "IPY_MODEL_7b25eb963d6b4daf90a3ff846965a9f6",
       "style": "IPY_MODEL_067cc292562747e69fbd3411e640ae3d",
       "value": {
        "date": 20,
        "month": 4,
        "year": 2020
       }
      }
     },
     "2e1733dd3dfc40d9bcde0c9bb5c56d80": {
      "model_module": "@jupyter-widgets/controls",
      "model_module_version": "1.4.0",
      "model_name": "ButtonModel",
      "state": {
       "button_style": "success",
       "description": "Посчитать дни",
       "layout": "IPY_MODEL_371537fda8fc47b7a486aa98b842c6be",
       "style": "IPY_MODEL_470ee462e1d9498fa5254566fbc833e1"
      }
     },
     "2fcd3604109a4d52ae8dc4ce84afdc57": {
      "model_module": "@jupyter-widgets/controls",
      "model_module_version": "1.4.0",
      "model_name": "DatePickerModel",
      "state": {
       "description": "Конечная дата:",
       "disabled": false,
       "layout": "IPY_MODEL_690f8f1e14ab4557acfdf88a078b7a20",
       "style": "IPY_MODEL_d1b0cde5b8fa49f7b82b471f05b11d2b",
       "value": {
        "date": 18,
        "month": 5,
        "year": 2020
       }
      }
     },
     "30117590979a4d228f681cda3f050875": {
      "model_module": "@jupyter-widgets/controls",
      "model_module_version": "1.4.0",
      "model_name": "ButtonStyleModel",
      "state": {
       "font_weight": "bold"
      }
     },
     "31618cc1d9e34549a16790f0ec5cb528": {
      "model_module": "@jupyter-widgets/controls",
      "model_module_version": "1.4.0",
      "model_name": "DatePickerModel",
      "state": {
       "description": "Начальная дата:",
       "disabled": false,
       "layout": "IPY_MODEL_dfc115349a224648a678fa3e9394bceb",
       "style": "IPY_MODEL_dca74365e62d4d0da6cd46e2ef3169bb",
       "value": {
        "date": 20,
        "month": 4,
        "year": 2020
       }
      }
     },
     "33701922d7f146c19440951d0606fe90": {
      "model_module": "@jupyter-widgets/base",
      "model_module_version": "1.1.0",
      "model_name": "LayoutModel",
      "state": {}
     },
     "33ee338fd07f4389bfe1692ee8b07925": {
      "model_module": "@jupyter-widgets/base",
      "model_module_version": "1.1.0",
      "model_name": "LayoutModel",
      "state": {
       "margin": "0 130px"
      }
     },
     "34e194bb2fae4153a5c6b698c7fc94fd": {
      "model_module": "@jupyter-widgets/base",
      "model_module_version": "1.1.0",
      "model_name": "LayoutModel",
      "state": {}
     },
     "3620369502544e5d8b8975ab71ea7e73": {
      "model_module": "@jupyter-widgets/controls",
      "model_module_version": "1.4.0",
      "model_name": "DatePickerModel",
      "state": {
       "description": "Начальная дата:",
       "disabled": false,
       "layout": "IPY_MODEL_5be9d1a13fd94f83ad061c5180f6978b",
       "style": "IPY_MODEL_78af8c0557d347bfbb4106e3a0b01822",
       "value": {
        "date": 20,
        "month": 4,
        "year": 2020
       }
      }
     },
     "371537fda8fc47b7a486aa98b842c6be": {
      "model_module": "@jupyter-widgets/base",
      "model_module_version": "1.1.0",
      "model_name": "LayoutModel",
      "state": {
       "margin": "0 130px"
      }
     },
     "3874590690dd482eabcf5901d1c91b45": {
      "model_module": "@jupyter-widgets/controls",
      "model_module_version": "1.4.0",
      "model_name": "DescriptionStyleModel",
      "state": {
       "description_width": ""
      }
     },
     "3aef8a92fbba4c3fb30d5175509d32fd": {
      "model_module": "@jupyter-widgets/controls",
      "model_module_version": "1.4.0",
      "model_name": "DescriptionStyleModel",
      "state": {
       "description_width": "120px"
      }
     },
     "3c028d89c76f41b9b3a4db03dcbfa840": {
      "model_module": "@jupyter-widgets/controls",
      "model_module_version": "1.4.0",
      "model_name": "DatePickerModel",
      "state": {
       "description": "Конечная дата:",
       "disabled": false,
       "layout": "IPY_MODEL_1978e4a6bf3d4a1c95cb108a6f624aed",
       "style": "IPY_MODEL_708c98e1502e48ea8d9191e49ee2c87d",
       "value": {
        "date": 13,
        "month": 5,
        "year": 2020
       }
      }
     },
     "3cab4383208c43deab858d9b3fb27109": {
      "model_module": "@jupyter-widgets/controls",
      "model_module_version": "1.4.0",
      "model_name": "DatePickerModel",
      "state": {
       "description": "Начальная дата:",
       "disabled": false,
       "layout": "IPY_MODEL_cba347bf4ca24d59aab21444f58f5791",
       "style": "IPY_MODEL_dc5c23d971bd4fbd99f4506bafc41a21",
       "value": {
        "date": 20,
        "month": 4,
        "year": 2020
       }
      }
     },
     "3ccea845655846018e87869a7840e847": {
      "model_module": "@jupyter-widgets/controls",
      "model_module_version": "1.4.0",
      "model_name": "DatePickerModel",
      "state": {
       "description": "Конечная дата:",
       "disabled": false,
       "layout": "IPY_MODEL_5be9d1a13fd94f83ad061c5180f6978b",
       "style": "IPY_MODEL_78af8c0557d347bfbb4106e3a0b01822",
       "value": {
        "date": 20,
        "month": 5,
        "year": 2020
       }
      }
     },
     "3cdf9319130746a9a49fe2bb8c9cee64": {
      "model_module": "@jupyter-widgets/controls",
      "model_module_version": "1.4.0",
      "model_name": "ButtonModel",
      "state": {
       "button_style": "success",
       "description": "Посчитать дни",
       "layout": "IPY_MODEL_e03d3710faa548288a584b7b11a2c08b",
       "style": "IPY_MODEL_30117590979a4d228f681cda3f050875"
      }
     },
     "40d6989f8ed34807813148cc5ae06e49": {
      "model_module": "@jupyter-widgets/controls",
      "model_module_version": "1.4.0",
      "model_name": "DescriptionStyleModel",
      "state": {
       "description_width": "120px"
      }
     },
     "423b11c7d701447fa554cc53872307a9": {
      "model_module": "@jupyter-widgets/controls",
      "model_module_version": "1.4.0",
      "model_name": "ButtonModel",
      "state": {
       "button_style": "success",
       "description": "Посчитать дни",
       "layout": "IPY_MODEL_5626d4d4883f4e51bbbfd7270ff4db2f",
       "style": "IPY_MODEL_e44499710eeb4c8bb3073a7e49d8fc9b"
      }
     },
     "42c58ac37e20465da1a4dd9cbaa22f12": {
      "model_module": "@jupyter-widgets/base",
      "model_module_version": "1.1.0",
      "model_name": "LayoutModel",
      "state": {}
     },
     "431d0fe5bc94499ea14124e6feb4d6d1": {
      "model_module": "@jupyter-widgets/base",
      "model_module_version": "1.1.0",
      "model_name": "LayoutModel",
      "state": {}
     },
     "4519f73894f440d0b11b8f4c31876b17": {
      "model_module": "@jupyter-widgets/controls",
      "model_module_version": "1.4.0",
      "model_name": "ButtonModel",
      "state": {
       "button_style": "success",
       "description": "Посчитать дни",
       "layout": "IPY_MODEL_c4d6c5d3953e411899514e8835f237fa",
       "style": "IPY_MODEL_8791cb1dbd254e51996bace2403dd873"
      }
     },
     "470ee462e1d9498fa5254566fbc833e1": {
      "model_module": "@jupyter-widgets/controls",
      "model_module_version": "1.4.0",
      "model_name": "ButtonStyleModel",
      "state": {
       "font_weight": "bold"
      }
     },
     "4949703f86c84b69b06a5c4e505390fa": {
      "model_module": "@jupyter-widgets/controls",
      "model_module_version": "1.4.0",
      "model_name": "DatePickerModel",
      "state": {
       "description": "Конечная дата:",
       "disabled": false,
       "layout": "IPY_MODEL_10b2cad2ede64961990e794aa3f4ddd7",
       "style": "IPY_MODEL_beb1bdb6f9c3480db311f7b1f25eb533",
       "value": {
        "date": 21,
        "month": 5,
        "year": 2020
       }
      }
     },
     "495f3a3824b346c9a5aa77d298ee39fe": {
      "model_module": "@jupyter-widgets/controls",
      "model_module_version": "1.4.0",
      "model_name": "DatePickerModel",
      "state": {
       "description": "Начальная дата:",
       "disabled": false,
       "layout": "IPY_MODEL_567b50fec5b648beb4e8ca8e4718e7c5",
       "style": "IPY_MODEL_40d6989f8ed34807813148cc5ae06e49",
       "value": {
        "date": 20,
        "month": 4,
        "year": 2020
       }
      }
     },
     "4d4d9687c3054c6687fab7d4d437001f": {
      "model_module": "@jupyter-widgets/controls",
      "model_module_version": "1.4.0",
      "model_name": "ButtonModel",
      "state": {
       "button_style": "success",
       "description": "Посчитать дни",
       "layout": "IPY_MODEL_8c51df392c034538821c48dc68e709e6",
       "style": "IPY_MODEL_fd7a6af79cc2491e9e31c0fea35fe153"
      }
     },
     "4e55abbb85b4414eab935a6c972f6bba": {
      "model_module": "@jupyter-widgets/controls",
      "model_module_version": "1.4.0",
      "model_name": "DatePickerModel",
      "state": {
       "description": "Конечная дата:",
       "disabled": false,
       "layout": "IPY_MODEL_51aa348c92414e29b51ed9fa7f7e2340",
       "style": "IPY_MODEL_58f94f8ffe0c41619114395b29bcd327",
       "value": {
        "date": 24,
        "month": 5,
        "year": 2020
       }
      }
     },
     "4f9a3f03f45945ca9fa2aaa29e65b31c": {
      "model_module": "@jupyter-widgets/controls",
      "model_module_version": "1.4.0",
      "model_name": "ButtonStyleModel",
      "state": {
       "font_weight": "bold"
      }
     },
     "512ccf156fe440778818f7e8c628a2e4": {
      "model_module": "@jupyter-widgets/controls",
      "model_module_version": "1.4.0",
      "model_name": "DescriptionStyleModel",
      "state": {
       "description_width": "120px"
      }
     },
     "51aa348c92414e29b51ed9fa7f7e2340": {
      "model_module": "@jupyter-widgets/base",
      "model_module_version": "1.1.0",
      "model_name": "LayoutModel",
      "state": {}
     },
     "532eebf4893744a7a83347a2a3cd2acd": {
      "model_module": "@jupyter-widgets/base",
      "model_module_version": "1.1.0",
      "model_name": "LayoutModel",
      "state": {}
     },
     "5626d4d4883f4e51bbbfd7270ff4db2f": {
      "model_module": "@jupyter-widgets/base",
      "model_module_version": "1.1.0",
      "model_name": "LayoutModel",
      "state": {
       "margin": "0 130px"
      }
     },
     "567b50fec5b648beb4e8ca8e4718e7c5": {
      "model_module": "@jupyter-widgets/base",
      "model_module_version": "1.1.0",
      "model_name": "LayoutModel",
      "state": {}
     },
     "57360fdca2284d9f9018540988675e98": {
      "model_module": "@jupyter-widgets/controls",
      "model_module_version": "1.4.0",
      "model_name": "ButtonModel",
      "state": {
       "button_style": "success",
       "description": "Посчитать дни",
       "layout": "IPY_MODEL_33ee338fd07f4389bfe1692ee8b07925",
       "style": "IPY_MODEL_1eab9fafed2f463c808d65e663a76045"
      }
     },
     "58f94f8ffe0c41619114395b29bcd327": {
      "model_module": "@jupyter-widgets/controls",
      "model_module_version": "1.4.0",
      "model_name": "DescriptionStyleModel",
      "state": {
       "description_width": "120px"
      }
     },
     "593d438521134130b2a55983aa50b937": {
      "model_module": "@jupyter-widgets/controls",
      "model_module_version": "1.4.0",
      "model_name": "DescriptionStyleModel",
      "state": {
       "description_width": "120px"
      }
     },
     "599a81ec791c44beb42e6821f79193a3": {
      "model_module": "@jupyter-widgets/controls",
      "model_module_version": "1.4.0",
      "model_name": "ButtonModel",
      "state": {
       "button_style": "success",
       "description": "Посчитать дни",
       "layout": "IPY_MODEL_087382a9dcec4f6d839c213a50650936",
       "style": "IPY_MODEL_4f9a3f03f45945ca9fa2aaa29e65b31c"
      }
     },
     "5b36e3ee2b164e34b40bbaa7940dd0e0": {
      "model_module": "@jupyter-widgets/controls",
      "model_module_version": "1.4.0",
      "model_name": "DatePickerModel",
      "state": {
       "description": "Конечная дата:",
       "disabled": false,
       "layout": "IPY_MODEL_ce031723abc245f3a1a4bcbd17607bc4",
       "style": "IPY_MODEL_6e90e0116d8d42c7873bf2213f300443",
       "value": {
        "date": 19,
        "month": 5,
        "year": 2020
       }
      }
     },
     "5bb57a908d9d42aa828b8b6702645ac4": {
      "model_module": "@jupyter-widgets/base",
      "model_module_version": "1.1.0",
      "model_name": "LayoutModel",
      "state": {
       "margin": "0 130px"
      }
     },
     "5be9d1a13fd94f83ad061c5180f6978b": {
      "model_module": "@jupyter-widgets/base",
      "model_module_version": "1.1.0",
      "model_name": "LayoutModel",
      "state": {}
     },
     "5c56d07ff5b14c73b2e18f536d4674bd": {
      "model_module": "@jupyter-widgets/base",
      "model_module_version": "1.1.0",
      "model_name": "LayoutModel",
      "state": {}
     },
     "5e407db647004adf996092e47413198a": {
      "model_module": "@jupyter-widgets/base",
      "model_module_version": "1.1.0",
      "model_name": "LayoutModel",
      "state": {}
     },
     "5ec66c4bc31b47918affe509b6b12dd0": {
      "model_module": "@jupyter-widgets/controls",
      "model_module_version": "1.4.0",
      "model_name": "DatePickerModel",
      "state": {
       "description": "Конечная дата:",
       "disabled": false,
       "layout": "IPY_MODEL_431d0fe5bc94499ea14124e6feb4d6d1",
       "style": "IPY_MODEL_512ccf156fe440778818f7e8c628a2e4",
       "value": {
        "date": 21,
        "month": 5,
        "year": 2020
       }
      }
     },
     "632dfa0b7e734764be1c160d25c9b1d7": {
      "model_module": "@jupyter-widgets/controls",
      "model_module_version": "1.4.0",
      "model_name": "DatePickerModel",
      "state": {
       "description": "Конечная дата:",
       "disabled": false,
       "layout": "IPY_MODEL_5e407db647004adf996092e47413198a",
       "style": "IPY_MODEL_b5a906a4194f4db5ade55dc208fef0ac",
       "value": {
        "date": 16,
        "month": 5,
        "year": 2020
       }
      }
     },
     "63a2060e10134a3cae1955c73b776355": {
      "model_module": "@jupyter-widgets/controls",
      "model_module_version": "1.4.0",
      "model_name": "ButtonModel",
      "state": {
       "button_style": "success",
       "description": "Посчитать дни",
       "layout": "IPY_MODEL_e5e61c2a681b4b939537d3f660690c6d",
       "style": "IPY_MODEL_d4b2d66a905742e6a48e55a7cd7466a8"
      }
     },
     "63d774d6cdb74798a1b171453f8c526e": {
      "model_module": "@jupyter-widgets/controls",
      "model_module_version": "1.4.0",
      "model_name": "DatePickerModel",
      "state": {
       "description": "Конечная дата:",
       "disabled": false,
       "layout": "IPY_MODEL_cc2ad3a6506749df98a191b95beea757",
       "style": "IPY_MODEL_ac997d18c7bc4fa0867336f065abca6c",
       "value": {
        "date": 30,
        "month": 5,
        "year": 2020
       }
      }
     },
     "64513bafe7114ea3bf3efddc584bbfa4": {
      "model_module": "@jupyter-widgets/controls",
      "model_module_version": "1.4.0",
      "model_name": "DatePickerModel",
      "state": {
       "description": "Начальная дата:",
       "disabled": false,
       "layout": "IPY_MODEL_a6019a75575d4fe7aed4343d043256a2",
       "style": "IPY_MODEL_8e336fcea2314c5fa1c171f63ed6e538",
       "value": {
        "date": 20,
        "month": 4,
        "year": 2020
       }
      }
     },
     "690f8f1e14ab4557acfdf88a078b7a20": {
      "model_module": "@jupyter-widgets/base",
      "model_module_version": "1.1.0",
      "model_name": "LayoutModel",
      "state": {}
     },
     "6a894f846e1047cdae23ae65df057de1": {
      "model_module": "@jupyter-widgets/controls",
      "model_module_version": "1.4.0",
      "model_name": "DatePickerModel",
      "state": {
       "description": "Начальная дата:",
       "disabled": false,
       "layout": "IPY_MODEL_690f8f1e14ab4557acfdf88a078b7a20",
       "style": "IPY_MODEL_d1b0cde5b8fa49f7b82b471f05b11d2b",
       "value": {
        "date": 20,
        "month": 4,
        "year": 2020
       }
      }
     },
     "6ab34d9c6e2b4477a287b032395fb21a": {
      "model_module": "@jupyter-widgets/controls",
      "model_module_version": "1.4.0",
      "model_name": "ButtonModel",
      "state": {
       "button_style": "success",
       "description": "Посчитать дни",
       "layout": "IPY_MODEL_7f3d1dd39ec2448b8b693f9af83793d1",
       "style": "IPY_MODEL_f90e51f8eef644e98b6056ae7c55d36d"
      }
     },
     "6ac7e82749fc4020aaccf826fb583fac": {
      "model_module": "@jupyter-widgets/controls",
      "model_module_version": "1.4.0",
      "model_name": "ButtonModel",
      "state": {
       "button_style": "success",
       "description": "Посчитать дни",
       "layout": "IPY_MODEL_fba24f7fcf3b468795f92fb116e27ac7",
       "style": "IPY_MODEL_0ca0c9dc47eb4b959df5d115515e837c"
      }
     },
     "6ba2b28d825146d1a4a760ce93727760": {
      "model_module": "@jupyter-widgets/base",
      "model_module_version": "1.1.0",
      "model_name": "LayoutModel",
      "state": {
       "margin": "0 130px"
      }
     },
     "6d61b13a7f1643d588406d670cf75e46": {
      "model_module": "@jupyter-widgets/controls",
      "model_module_version": "1.4.0",
      "model_name": "DatePickerModel",
      "state": {
       "description": "Начальная дата:",
       "disabled": false,
       "layout": "IPY_MODEL_ce031723abc245f3a1a4bcbd17607bc4",
       "style": "IPY_MODEL_6e90e0116d8d42c7873bf2213f300443",
       "value": {
        "date": 19,
        "month": 4,
        "year": 2020
       }
      }
     },
     "6e90e0116d8d42c7873bf2213f300443": {
      "model_module": "@jupyter-widgets/controls",
      "model_module_version": "1.4.0",
      "model_name": "DescriptionStyleModel",
      "state": {
       "description_width": "120px"
      }
     },
     "6ffb9226925e49cab13ef0926fb09e42": {
      "model_module": "@jupyter-widgets/base",
      "model_module_version": "1.1.0",
      "model_name": "LayoutModel",
      "state": {
       "margin": "0 130px"
      }
     },
     "701f13f4387c4c60a81e3e7a21a69d67": {
      "model_module": "@jupyter-widgets/controls",
      "model_module_version": "1.4.0",
      "model_name": "ButtonStyleModel",
      "state": {
       "font_weight": "bold"
      }
     },
     "708c98e1502e48ea8d9191e49ee2c87d": {
      "model_module": "@jupyter-widgets/controls",
      "model_module_version": "1.4.0",
      "model_name": "DescriptionStyleModel",
      "state": {
       "description_width": "120px"
      }
     },
     "714f223be6ed4a2ba6ba6a3157159d44": {
      "model_module": "@jupyter-widgets/controls",
      "model_module_version": "1.4.0",
      "model_name": "DescriptionStyleModel",
      "state": {
       "description_width": ""
      }
     },
     "75ba0ec0f2c545e19fd0d9afcad1e542": {
      "model_module": "@jupyter-widgets/controls",
      "model_module_version": "1.4.0",
      "model_name": "DatePickerModel",
      "state": {
       "description": "Начальная дата:",
       "disabled": false,
       "layout": "IPY_MODEL_51aa348c92414e29b51ed9fa7f7e2340",
       "style": "IPY_MODEL_58f94f8ffe0c41619114395b29bcd327",
       "value": {
        "date": 20,
        "month": 4,
        "year": 2020
       }
      }
     },
     "78726a60ff8641d2b447b6cb0afd4e0f": {
      "model_module": "@jupyter-widgets/controls",
      "model_module_version": "1.4.0",
      "model_name": "DatePickerModel",
      "state": {
       "description": "Конечная дата:",
       "disabled": false,
       "layout": "IPY_MODEL_7b25eb963d6b4daf90a3ff846965a9f6",
       "style": "IPY_MODEL_067cc292562747e69fbd3411e640ae3d",
       "value": {
        "date": 30,
        "month": 5,
        "year": 2020
       }
      }
     },
     "78af8c0557d347bfbb4106e3a0b01822": {
      "model_module": "@jupyter-widgets/controls",
      "model_module_version": "1.4.0",
      "model_name": "DescriptionStyleModel",
      "state": {
       "description_width": "120px"
      }
     },
     "79d0aa36dd784b28a0f92be9fbeae9b8": {
      "model_module": "@jupyter-widgets/controls",
      "model_module_version": "1.4.0",
      "model_name": "DescriptionStyleModel",
      "state": {
       "description_width": ""
      }
     },
     "7a65f3966f8a4e38bf2c5cdcc629f72d": {
      "model_module": "@jupyter-widgets/controls",
      "model_module_version": "1.4.0",
      "model_name": "ButtonModel",
      "state": {
       "button_style": "success",
       "description": "Посчитать дни",
       "layout": "IPY_MODEL_0628283c630848ebb64271f0559a27e6",
       "style": "IPY_MODEL_701f13f4387c4c60a81e3e7a21a69d67"
      }
     },
     "7b25eb963d6b4daf90a3ff846965a9f6": {
      "model_module": "@jupyter-widgets/base",
      "model_module_version": "1.1.0",
      "model_name": "LayoutModel",
      "state": {}
     },
     "7be9662d9b60436a870911fc52fee430": {
      "model_module": "@jupyter-widgets/controls",
      "model_module_version": "1.4.0",
      "model_name": "DatePickerModel",
      "state": {
       "description": "Конечная дата:",
       "disabled": false,
       "layout": "IPY_MODEL_db99212465234324b46122adb06b400a",
       "style": "IPY_MODEL_c7b0087c33b1488d84ee241bb5f743bf",
       "value": {
        "date": 17,
        "month": 5,
        "year": 2020
       }
      }
     },
     "7ec45456d8f84d018812f27be1de22d9": {
      "model_module": "@jupyter-widgets/controls",
      "model_module_version": "1.4.0",
      "model_name": "DescriptionStyleModel",
      "state": {
       "description_width": "120px"
      }
     },
     "7eedc98243c9493b8389a7f5fded5309": {
      "model_module": "@jupyter-widgets/controls",
      "model_module_version": "1.4.0",
      "model_name": "DatePickerModel",
      "state": {
       "description": "Начальная дата:",
       "disabled": false,
       "layout": "IPY_MODEL_bbdd7b47b9d84f36bbf5458c3550e172",
       "style": "IPY_MODEL_97f639c77c054519907ffe454b78bed6",
       "value": {
        "date": 20,
        "month": 4,
        "year": 2020
       }
      }
     },
     "7f3d1dd39ec2448b8b693f9af83793d1": {
      "model_module": "@jupyter-widgets/base",
      "model_module_version": "1.1.0",
      "model_name": "LayoutModel",
      "state": {
       "margin": "0 130px"
      }
     },
     "7fbc4d178634405ebf8e5097a4550836": {
      "model_module": "@jupyter-widgets/base",
      "model_module_version": "1.1.0",
      "model_name": "LayoutModel",
      "state": {}
     },
     "8280d0ae9cb848af824f2a6de2eca666": {
      "model_module": "@jupyter-widgets/base",
      "model_module_version": "1.1.0",
      "model_name": "LayoutModel",
      "state": {}
     },
     "846925b3e85443c7b1aece73718a15bb": {
      "model_module": "@jupyter-widgets/controls",
      "model_module_version": "1.4.0",
      "model_name": "DatePickerModel",
      "state": {
       "description": "Конечная дата:",
       "disabled": false,
       "layout": "IPY_MODEL_a81dad361521468da1634971c9729ac1",
       "style": "IPY_MODEL_232306840dbb40b9b32117b7d88a465d",
       "value": {
        "date": 20,
        "month": 5,
        "year": 2020
       }
      }
     },
     "84ce4f395e414bdb8479fa7cc6717390": {
      "model_module": "@jupyter-widgets/controls",
      "model_module_version": "1.4.0",
      "model_name": "DatePickerModel",
      "state": {
       "description": "Конечная дата:",
       "disabled": false,
       "layout": "IPY_MODEL_fe466e83aa4148f780fb9aea1d1e7d25",
       "style": "IPY_MODEL_593d438521134130b2a55983aa50b937",
       "value": {
        "date": 20,
        "month": 5,
        "year": 2020
       }
      }
     },
     "85f600e0d7804e9bab032b3f1e4bddcc": {
      "model_module": "@jupyter-widgets/controls",
      "model_module_version": "1.4.0",
      "model_name": "DescriptionStyleModel",
      "state": {
       "description_width": ""
      }
     },
     "8791cb1dbd254e51996bace2403dd873": {
      "model_module": "@jupyter-widgets/controls",
      "model_module_version": "1.4.0",
      "model_name": "ButtonStyleModel",
      "state": {
       "font_weight": "bold"
      }
     },
     "8a0bda3da99b48f4baa92abff119f1f4": {
      "model_module": "@jupyter-widgets/controls",
      "model_module_version": "1.4.0",
      "model_name": "DatePickerModel",
      "state": {
       "description": "Конечная дата:",
       "disabled": false,
       "layout": "IPY_MODEL_00bfb970b992453ea5bd1dbd75e731b6",
       "style": "IPY_MODEL_f2a6a47d4421405096b792fb118ffd67",
       "value": {
        "date": 18,
        "month": 5,
        "year": 2020
       }
      }
     },
     "8b84272a04dc490d940e3bc95494e892": {
      "model_module": "@jupyter-widgets/controls",
      "model_module_version": "1.4.0",
      "model_name": "DescriptionStyleModel",
      "state": {
       "description_width": ""
      }
     },
     "8c51df392c034538821c48dc68e709e6": {
      "model_module": "@jupyter-widgets/base",
      "model_module_version": "1.1.0",
      "model_name": "LayoutModel",
      "state": {
       "margin": "0 130px"
      }
     },
     "8e336fcea2314c5fa1c171f63ed6e538": {
      "model_module": "@jupyter-widgets/controls",
      "model_module_version": "1.4.0",
      "model_name": "DescriptionStyleModel",
      "state": {
       "description_width": "120px"
      }
     },
     "903ca3b402b84d5597b1464c234a4fe8": {
      "model_module": "@jupyter-widgets/controls",
      "model_module_version": "1.4.0",
      "model_name": "ButtonModel",
      "state": {
       "button_style": "success",
       "description": "Посчитать дни",
       "layout": "IPY_MODEL_98af6c21eb7a4fd79d1c8d89e30845d8",
       "style": "IPY_MODEL_d6322c105ff148eb91c9f2cdfa3c9a26"
      }
     },
     "91179acb85d646aca7f0c9b93810ef9e": {
      "model_module": "@jupyter-widgets/controls",
      "model_module_version": "1.4.0",
      "model_name": "ButtonStyleModel",
      "state": {
       "font_weight": "bold"
      }
     },
     "97f639c77c054519907ffe454b78bed6": {
      "model_module": "@jupyter-widgets/controls",
      "model_module_version": "1.4.0",
      "model_name": "DescriptionStyleModel",
      "state": {
       "description_width": "120px"
      }
     },
     "98af6c21eb7a4fd79d1c8d89e30845d8": {
      "model_module": "@jupyter-widgets/base",
      "model_module_version": "1.1.0",
      "model_name": "LayoutModel",
      "state": {
       "margin": "0 130px"
      }
     },
     "9b192b229d0f44638783d8628f7926bd": {
      "model_module": "@jupyter-widgets/controls",
      "model_module_version": "1.4.0",
      "model_name": "ButtonModel",
      "state": {
       "button_style": "success",
       "description": "Посчитать дни",
       "layout": "IPY_MODEL_f33bedc3d12544918ed30e89b5938ab1",
       "style": "IPY_MODEL_1092e0e9fa4e4a54afbd51f571233a26"
      }
     },
     "a6019a75575d4fe7aed4343d043256a2": {
      "model_module": "@jupyter-widgets/base",
      "model_module_version": "1.1.0",
      "model_name": "LayoutModel",
      "state": {}
     },
     "a81dad361521468da1634971c9729ac1": {
      "model_module": "@jupyter-widgets/base",
      "model_module_version": "1.1.0",
      "model_name": "LayoutModel",
      "state": {}
     },
     "aaf8d0cd701147a9be89c3e7787f628b": {
      "model_module": "@jupyter-widgets/controls",
      "model_module_version": "1.4.0",
      "model_name": "DatePickerModel",
      "state": {
       "description": "Начальная дата:",
       "disabled": false,
       "layout": "IPY_MODEL_fe466e83aa4148f780fb9aea1d1e7d25",
       "style": "IPY_MODEL_593d438521134130b2a55983aa50b937",
       "value": {
        "date": 20,
        "month": 4,
        "year": 2020
       }
      }
     },
     "ab4aec1d61eb4b0581f371a98bcc271b": {
      "model_module": "@jupyter-widgets/controls",
      "model_module_version": "1.4.0",
      "model_name": "DescriptionStyleModel",
      "state": {
       "description_width": ""
      }
     },
     "ac997d18c7bc4fa0867336f065abca6c": {
      "model_module": "@jupyter-widgets/controls",
      "model_module_version": "1.4.0",
      "model_name": "DescriptionStyleModel",
      "state": {
       "description_width": "120px"
      }
     },
     "af791a816b21431083f69947d9f0f621": {
      "model_module": "@jupyter-widgets/base",
      "model_module_version": "1.1.0",
      "model_name": "LayoutModel",
      "state": {}
     },
     "b12f34579b9e4bfe99a2c6aacdfa6ca1": {
      "model_module": "@jupyter-widgets/controls",
      "model_module_version": "1.4.0",
      "model_name": "ButtonStyleModel",
      "state": {
       "font_weight": "bold"
      }
     },
     "b18b5653e53e4e90be99e77a027ee9e2": {
      "model_module": "@jupyter-widgets/controls",
      "model_module_version": "1.4.0",
      "model_name": "DescriptionStyleModel",
      "state": {
       "description_width": ""
      }
     },
     "b2326c2d0a804375b1221232de67f793": {
      "model_module": "@jupyter-widgets/base",
      "model_module_version": "1.1.0",
      "model_name": "LayoutModel",
      "state": {}
     },
     "b2fea8dedc984630ae2962c0de79120c": {
      "model_module": "@jupyter-widgets/controls",
      "model_module_version": "1.4.0",
      "model_name": "DatePickerModel",
      "state": {
       "description": "Начальная дата:",
       "disabled": false,
       "layout": "IPY_MODEL_00bfb970b992453ea5bd1dbd75e731b6",
       "style": "IPY_MODEL_f2a6a47d4421405096b792fb118ffd67",
       "value": {
        "date": 20,
        "month": 4,
        "year": 2020
       }
      }
     },
     "b5a906a4194f4db5ade55dc208fef0ac": {
      "model_module": "@jupyter-widgets/controls",
      "model_module_version": "1.4.0",
      "model_name": "DescriptionStyleModel",
      "state": {
       "description_width": "120px"
      }
     },
     "bb985ce0f81943eaa29f2f7ead490e1d": {
      "model_module": "@jupyter-widgets/controls",
      "model_module_version": "1.4.0",
      "model_name": "ButtonModel",
      "state": {
       "button_style": "success",
       "description": "Посчитать дни",
       "layout": "IPY_MODEL_6ffb9226925e49cab13ef0926fb09e42",
       "style": "IPY_MODEL_b12f34579b9e4bfe99a2c6aacdfa6ca1"
      }
     },
     "bbdd7b47b9d84f36bbf5458c3550e172": {
      "model_module": "@jupyter-widgets/base",
      "model_module_version": "1.1.0",
      "model_name": "LayoutModel",
      "state": {}
     },
     "beb1bdb6f9c3480db311f7b1f25eb533": {
      "model_module": "@jupyter-widgets/controls",
      "model_module_version": "1.4.0",
      "model_name": "DescriptionStyleModel",
      "state": {
       "description_width": "120px"
      }
     },
     "bee244c5a08f4a5b8b62fd7957b15d07": {
      "model_module": "@jupyter-widgets/base",
      "model_module_version": "1.1.0",
      "model_name": "LayoutModel",
      "state": {}
     },
     "c07ad55b38444438ad585e2a1b10a022": {
      "model_module": "@jupyter-widgets/controls",
      "model_module_version": "1.4.0",
      "model_name": "ButtonModel",
      "state": {
       "button_style": "success",
       "description": "Посчитать дни",
       "layout": "IPY_MODEL_6ba2b28d825146d1a4a760ce93727760",
       "style": "IPY_MODEL_e8368538d70f411985bc2c1cecf9d537"
      }
     },
     "c1193fd9351c40e5b26c31bdec5eca4f": {
      "model_module": "@jupyter-widgets/controls",
      "model_module_version": "1.4.0",
      "model_name": "ButtonModel",
      "state": {
       "button_style": "success",
       "description": "Посчитать дни",
       "layout": "IPY_MODEL_11a2f5fdebcd425a96079d5020add361",
       "style": "IPY_MODEL_dcbda0431bb94772b8bcdbc49185af92"
      }
     },
     "c4d6c5d3953e411899514e8835f237fa": {
      "model_module": "@jupyter-widgets/base",
      "model_module_version": "1.1.0",
      "model_name": "LayoutModel",
      "state": {
       "margin": "0 130px"
      }
     },
     "c50dc0916872474a8146965afe70bd8c": {
      "model_module": "@jupyter-widgets/controls",
      "model_module_version": "1.4.0",
      "model_name": "DatePickerModel",
      "state": {
       "description": "Конечная дата:",
       "disabled": false,
       "layout": "IPY_MODEL_8280d0ae9cb848af824f2a6de2eca666",
       "style": "IPY_MODEL_3aef8a92fbba4c3fb30d5175509d32fd",
       "value": {
        "date": 21,
        "month": 5,
        "year": 2020
       }
      }
     },
     "c6536ceae43348558f77c5e803f60796": {
      "model_module": "@jupyter-widgets/controls",
      "model_module_version": "1.4.0",
      "model_name": "DescriptionStyleModel",
      "state": {
       "description_width": ""
      }
     },
     "c7b0087c33b1488d84ee241bb5f743bf": {
      "model_module": "@jupyter-widgets/controls",
      "model_module_version": "1.4.0",
      "model_name": "DescriptionStyleModel",
      "state": {
       "description_width": "120px"
      }
     },
     "c91f788a426c40c29bd7021ea0e643f9": {
      "model_module": "@jupyter-widgets/base",
      "model_module_version": "1.1.0",
      "model_name": "LayoutModel",
      "state": {
       "margin": "0 130px"
      }
     },
     "cba347bf4ca24d59aab21444f58f5791": {
      "model_module": "@jupyter-widgets/base",
      "model_module_version": "1.1.0",
      "model_name": "LayoutModel",
      "state": {}
     },
     "cc2ad3a6506749df98a191b95beea757": {
      "model_module": "@jupyter-widgets/base",
      "model_module_version": "1.1.0",
      "model_name": "LayoutModel",
      "state": {}
     },
     "ce031723abc245f3a1a4bcbd17607bc4": {
      "model_module": "@jupyter-widgets/base",
      "model_module_version": "1.1.0",
      "model_name": "LayoutModel",
      "state": {}
     },
     "d0bf650a85f9453ebf615879aff62d8e": {
      "model_module": "@jupyter-widgets/base",
      "model_module_version": "1.1.0",
      "model_name": "LayoutModel",
      "state": {}
     },
     "d0cf6013e2b349c6a410685e2481e18e": {
      "model_module": "@jupyter-widgets/controls",
      "model_module_version": "1.4.0",
      "model_name": "DescriptionStyleModel",
      "state": {
       "description_width": ""
      }
     },
     "d1b0cde5b8fa49f7b82b471f05b11d2b": {
      "model_module": "@jupyter-widgets/controls",
      "model_module_version": "1.4.0",
      "model_name": "DescriptionStyleModel",
      "state": {
       "description_width": "120px"
      }
     },
     "d43942c900e549dab6bcb2d8532adb8a": {
      "model_module": "@jupyter-widgets/controls",
      "model_module_version": "1.4.0",
      "model_name": "DatePickerModel",
      "state": {
       "description": "Начальная дата:",
       "disabled": false,
       "layout": "IPY_MODEL_db99212465234324b46122adb06b400a",
       "style": "IPY_MODEL_c7b0087c33b1488d84ee241bb5f743bf",
       "value": {
        "date": 20,
        "month": 4,
        "year": 2020
       }
      }
     },
     "d4b2d66a905742e6a48e55a7cd7466a8": {
      "model_module": "@jupyter-widgets/controls",
      "model_module_version": "1.4.0",
      "model_name": "ButtonStyleModel",
      "state": {
       "font_weight": "bold"
      }
     },
     "d59070f2589e4e21b8b7058f38f9b358": {
      "model_module": "@jupyter-widgets/controls",
      "model_module_version": "1.4.0",
      "model_name": "DatePickerModel",
      "state": {
       "description": "Начальная дата:",
       "disabled": false,
       "layout": "IPY_MODEL_5e407db647004adf996092e47413198a",
       "style": "IPY_MODEL_b5a906a4194f4db5ade55dc208fef0ac",
       "value": {
        "date": 22,
        "month": 4,
        "year": 2020
       }
      }
     },
     "d61c8c03b6494a708e0b52af51a0a654": {
      "model_module": "@jupyter-widgets/base",
      "model_module_version": "1.1.0",
      "model_name": "LayoutModel",
      "state": {}
     },
     "d6322c105ff148eb91c9f2cdfa3c9a26": {
      "model_module": "@jupyter-widgets/controls",
      "model_module_version": "1.4.0",
      "model_name": "ButtonStyleModel",
      "state": {
       "font_weight": "bold"
      }
     },
     "d8456a6ada304aeb9fae893bf32f3836": {
      "model_module": "@jupyter-widgets/base",
      "model_module_version": "1.1.0",
      "model_name": "LayoutModel",
      "state": {}
     },
     "d930e93d7a1748a68c4771f03dd67662": {
      "model_module": "@jupyter-widgets/base",
      "model_module_version": "1.1.0",
      "model_name": "LayoutModel",
      "state": {}
     },
     "d93d343a591b4aa3881f469e871337e9": {
      "model_module": "@jupyter-widgets/base",
      "model_module_version": "1.1.0",
      "model_name": "LayoutModel",
      "state": {
       "margin": "0 130px"
      }
     },
     "d960de819a964e6c9b4679b99da12ea0": {
      "model_module": "@jupyter-widgets/controls",
      "model_module_version": "1.4.0",
      "model_name": "DescriptionStyleModel",
      "state": {
       "description_width": ""
      }
     },
     "db99212465234324b46122adb06b400a": {
      "model_module": "@jupyter-widgets/base",
      "model_module_version": "1.1.0",
      "model_name": "LayoutModel",
      "state": {}
     },
     "dc1fd7c0a4f145baa371da0381ebc54c": {
      "model_module": "@jupyter-widgets/controls",
      "model_module_version": "1.4.0",
      "model_name": "DatePickerModel",
      "state": {
       "description": "Начальная дата:",
       "disabled": false,
       "layout": "IPY_MODEL_10b2cad2ede64961990e794aa3f4ddd7",
       "style": "IPY_MODEL_beb1bdb6f9c3480db311f7b1f25eb533",
       "value": {
        "date": 21,
        "month": 4,
        "year": 2020
       }
      }
     },
     "dc5c23d971bd4fbd99f4506bafc41a21": {
      "model_module": "@jupyter-widgets/controls",
      "model_module_version": "1.4.0",
      "model_name": "DescriptionStyleModel",
      "state": {
       "description_width": "120px"
      }
     },
     "dca74365e62d4d0da6cd46e2ef3169bb": {
      "model_module": "@jupyter-widgets/controls",
      "model_module_version": "1.4.0",
      "model_name": "DescriptionStyleModel",
      "state": {
       "description_width": "120px"
      }
     },
     "dcbda0431bb94772b8bcdbc49185af92": {
      "model_module": "@jupyter-widgets/controls",
      "model_module_version": "1.4.0",
      "model_name": "ButtonStyleModel",
      "state": {
       "font_weight": "bold"
      }
     },
     "dfc115349a224648a678fa3e9394bceb": {
      "model_module": "@jupyter-widgets/base",
      "model_module_version": "1.1.0",
      "model_name": "LayoutModel",
      "state": {}
     },
     "e03d3710faa548288a584b7b11a2c08b": {
      "model_module": "@jupyter-widgets/base",
      "model_module_version": "1.1.0",
      "model_name": "LayoutModel",
      "state": {
       "margin": "0 130px"
      }
     },
     "e0b60d7a2738436890c8259ac85317c5": {
      "model_module": "@jupyter-widgets/controls",
      "model_module_version": "1.4.0",
      "model_name": "DescriptionStyleModel",
      "state": {
       "description_width": ""
      }
     },
     "e0e1f5876de249c7af7a30588cee7015": {
      "model_module": "@jupyter-widgets/controls",
      "model_module_version": "1.4.0",
      "model_name": "DatePickerModel",
      "state": {
       "description": "Конечная дата:",
       "disabled": false,
       "layout": "IPY_MODEL_bbdd7b47b9d84f36bbf5458c3550e172",
       "style": "IPY_MODEL_97f639c77c054519907ffe454b78bed6",
       "value": {
        "date": 23,
        "month": 5,
        "year": 2020
       }
      }
     },
     "e44499710eeb4c8bb3073a7e49d8fc9b": {
      "model_module": "@jupyter-widgets/controls",
      "model_module_version": "1.4.0",
      "model_name": "ButtonStyleModel",
      "state": {
       "font_weight": "bold"
      }
     },
     "e5e61c2a681b4b939537d3f660690c6d": {
      "model_module": "@jupyter-widgets/base",
      "model_module_version": "1.1.0",
      "model_name": "LayoutModel",
      "state": {
       "margin": "0 130px"
      }
     },
     "e7510a43fcd64b1c90a08bd497526ccd": {
      "model_module": "@jupyter-widgets/controls",
      "model_module_version": "1.4.0",
      "model_name": "DatePickerModel",
      "state": {
       "description": "Конечная дата:",
       "disabled": false,
       "layout": "IPY_MODEL_1c122d08ceed42f2bfd1a7987f2e68ef",
       "style": "IPY_MODEL_7ec45456d8f84d018812f27be1de22d9",
       "value": {
        "date": 21,
        "month": 5,
        "year": 2020
       }
      }
     },
     "e8368538d70f411985bc2c1cecf9d537": {
      "model_module": "@jupyter-widgets/controls",
      "model_module_version": "1.4.0",
      "model_name": "ButtonStyleModel",
      "state": {
       "font_weight": "bold"
      }
     },
     "e90b37d956e54fb4a8c550ab0afd7481": {
      "model_module": "@jupyter-widgets/controls",
      "model_module_version": "1.4.0",
      "model_name": "DatePickerModel",
      "state": {
       "description": "Начальная дата:",
       "disabled": false,
       "layout": "IPY_MODEL_8280d0ae9cb848af824f2a6de2eca666",
       "style": "IPY_MODEL_3aef8a92fbba4c3fb30d5175509d32fd",
       "value": {
        "date": 18,
        "month": 4,
        "year": 2020
       }
      }
     },
     "ee9102bfbf1a4e82a80b23a1a9adbff2": {
      "model_module": "@jupyter-widgets/controls",
      "model_module_version": "1.4.0",
      "model_name": "DatePickerModel",
      "state": {
       "description": "Начальная дата:",
       "disabled": false,
       "layout": "IPY_MODEL_1978e4a6bf3d4a1c95cb108a6f624aed",
       "style": "IPY_MODEL_708c98e1502e48ea8d9191e49ee2c87d",
       "value": {
        "date": 20,
        "month": 4,
        "year": 2020
       }
      }
     },
     "ee91e2a86260448e89064e8ac48d3446": {
      "model_module": "@jupyter-widgets/controls",
      "model_module_version": "1.4.0",
      "model_name": "ButtonModel",
      "state": {
       "button_style": "success",
       "description": "Посчитать дни",
       "layout": "IPY_MODEL_1c0465a05ce84b89ab1a4a316887c243",
       "style": "IPY_MODEL_291ddbf8504c4ff68c2e929af95361de"
      }
     },
     "eec16a0a3adb49f0b51bcfbf3bb77605": {
      "model_module": "@jupyter-widgets/base",
      "model_module_version": "1.1.0",
      "model_name": "LayoutModel",
      "state": {}
     },
     "f2a6a47d4421405096b792fb118ffd67": {
      "model_module": "@jupyter-widgets/controls",
      "model_module_version": "1.4.0",
      "model_name": "DescriptionStyleModel",
      "state": {
       "description_width": "120px"
      }
     },
     "f33bedc3d12544918ed30e89b5938ab1": {
      "model_module": "@jupyter-widgets/base",
      "model_module_version": "1.1.0",
      "model_name": "LayoutModel",
      "state": {
       "margin": "0 130px"
      }
     },
     "f621560d52c24f4a821c84d2d0f590ce": {
      "model_module": "@jupyter-widgets/base",
      "model_module_version": "1.1.0",
      "model_name": "LayoutModel",
      "state": {}
     },
     "f90e51f8eef644e98b6056ae7c55d36d": {
      "model_module": "@jupyter-widgets/controls",
      "model_module_version": "1.4.0",
      "model_name": "ButtonStyleModel",
      "state": {
       "font_weight": "bold"
      }
     },
     "f9811ab342c94009843aa3ece978df00": {
      "model_module": "@jupyter-widgets/controls",
      "model_module_version": "1.4.0",
      "model_name": "ButtonStyleModel",
      "state": {
       "font_weight": "bold"
      }
     },
     "fba24f7fcf3b468795f92fb116e27ac7": {
      "model_module": "@jupyter-widgets/base",
      "model_module_version": "1.1.0",
      "model_name": "LayoutModel",
      "state": {
       "margin": "0 130px"
      }
     },
     "fd7a6af79cc2491e9e31c0fea35fe153": {
      "model_module": "@jupyter-widgets/controls",
      "model_module_version": "1.4.0",
      "model_name": "ButtonStyleModel",
      "state": {
       "font_weight": "bold"
      }
     },
     "fe466e83aa4148f780fb9aea1d1e7d25": {
      "model_module": "@jupyter-widgets/base",
      "model_module_version": "1.1.0",
      "model_name": "LayoutModel",
      "state": {}
     },
     "fe9151d1a49248b0885e89890d60fec7": {
      "model_module": "@jupyter-widgets/controls",
      "model_module_version": "1.4.0",
      "model_name": "DatePickerModel",
      "state": {
       "description": "Начальная дата:",
       "disabled": false,
       "layout": "IPY_MODEL_cc2ad3a6506749df98a191b95beea757",
       "style": "IPY_MODEL_ac997d18c7bc4fa0867336f065abca6c",
       "value": {
        "date": 20,
        "month": 4,
        "year": 2020
       }
      }
     },
     "ffd754beac6c4369b675b278d8f60c4f": {
      "model_module": "@jupyter-widgets/base",
      "model_module_version": "1.1.0",
      "model_name": "LayoutModel",
      "state": {}
     }
    },
    "version_major": 2,
    "version_minor": 0
   }
  }
 },
 "nbformat": 4,
 "nbformat_minor": 2
}
