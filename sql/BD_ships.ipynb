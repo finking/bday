{
 "cells": [
  {
   "cell_type": "markdown",
   "metadata": {},
   "source": [
    "# Использование sql в Python.\n",
    "\n",
    "**Содержание:**\n",
    "1. [Создание Базы Данных](#1.-Создание-Базы-Данных.);\n",
    "2. [Задача по выборке данных из БД](#2.-Задача-по-выборке-данных-из-БД.)."
   ]
  },
  {
   "cell_type": "markdown",
   "metadata": {},
   "source": [
    "## 1. Создание Базы Данных.\n",
    "В качестве БД используется пример с сайта sql-ex.ru, а именно БД кораблей: https://www.sql-ex.ru/help/select13.php#db_3\n",
    "\n",
    "Импортируем необходимые модули. "
   ]
  },
  {
   "cell_type": "code",
   "execution_count": 1,
   "metadata": {},
   "outputs": [],
   "source": [
    "# -*- coding: utf-8 -*-\n",
    "import pandas as pd\n",
    "from sqlalchemy import create_engine"
   ]
  },
  {
   "cell_type": "markdown",
   "metadata": {},
   "source": [
    "Определяем переменные.  \n",
    "*direction* - папка с таблицами в Excel c сайта sql-ex.  \n",
    "*dict_table* - словарь с указаниями названий файлов и таблиц.\n",
    "*dbfile* - название создаваемого файла БД.\n",
    "\n",
    "Создаем новый объект *engine*. В качестве движка используем sqlite."
   ]
  },
  {
   "cell_type": "code",
   "execution_count": 2,
   "metadata": {},
   "outputs": [],
   "source": [
    "# Путь хранения примера данных.\n",
    "direction = 'from_sql_ex/'\n",
    "\n",
    "# Словарь, включающий имя файла (ключ) и название таблицы с индексом (значение)\n",
    "dict_table = {'Classes.xlsx':['Classes','class'],\n",
    "             'Ships.xlsx':['Ships','name'],\n",
    "             'Outcomes.xlsx':['Outcomes','ship'],\n",
    "             'Battles.xlsx':['Battles','name']}\n",
    "\n",
    "dbfile = 'ships.sqlite'\n",
    "engine = create_engine(f'sqlite:///{dbfile}', echo=False)"
   ]
  },
  {
   "cell_type": "markdown",
   "metadata": {},
   "source": [
    "**Функция для обработки данных из экселся в БД:**"
   ]
  },
  {
   "cell_type": "code",
   "execution_count": 3,
   "metadata": {},
   "outputs": [],
   "source": [
    "# Функция для записи данных из экселя в базу данных \n",
    "def excel_to_sql(direction, filename, name_table, index_col):\n",
    "    df_classes = pd.read_excel(direction + filename, index_col = index_col)\n",
    "    \n",
    "    try:\n",
    "        df_classes.to_sql(name_table, con=engine)#, if_exists='fail')\n",
    "        print(\"Таблица {} успешно записана!\".format(name_table))     \n",
    "    except ValueError:\n",
    "        print(\"Таблица {} уже существует!\".format(name_table))   \n"
   ]
  },
  {
   "cell_type": "markdown",
   "metadata": {},
   "source": [
    "**Запись в БД:**"
   ]
  },
  {
   "cell_type": "code",
   "execution_count": 4,
   "metadata": {},
   "outputs": [
    {
     "name": "stdout",
     "output_type": "stream",
     "text": [
      "Таблица Classes успешно записана!\n",
      "Таблица Ships успешно записана!\n",
      "Таблица Outcomes успешно записана!\n",
      "Таблица Battles успешно записана!\n"
     ]
    }
   ],
   "source": [
    "# Запись в базу данных всех перечисленных таблиц.\n",
    "for k,v in dict_table.items():\n",
    "    excel_to_sql(direction, k, v[0], v[1])"
   ]
  },
  {
   "cell_type": "markdown",
   "metadata": {},
   "source": [
    "**Проверка таблицы Outcomes:**"
   ]
  },
  {
   "cell_type": "code",
   "execution_count": 5,
   "metadata": {},
   "outputs": [
    {
     "data": {
      "text/plain": [
       "[('Bismarck', 'North_Atlantic', 'sunk'),\n",
       " ('California', 'Guadalcanal', 'damaged'),\n",
       " ('CAlifornia', 'Surigao_Strait', 'ok'),\n",
       " ('Duke_of_York', 'North_Cape', 'ok'),\n",
       " ('Fuso', 'Surigao_Strait', 'sunk'),\n",
       " ('Hood', 'North_Atlantic', 'sunk'),\n",
       " ('King_George_V', 'North_Atlantic', 'ok'),\n",
       " ('Kirishima', 'Guadalcanal', 'sunk'),\n",
       " ('Prince_of_Wales', 'North_Atlantic', 'damaged'),\n",
       " ('Rodney', 'North_Atlantic', 'OK'),\n",
       " ('Schamhorst', 'North_Cape', 'sunk'),\n",
       " ('South_Dakota', 'Guadalcanal', 'damaged'),\n",
       " ('Tennessee', 'Surigao_Strait', 'ok'),\n",
       " ('Washington', 'Guadalcanal', 'ok'),\n",
       " ('West_Virginia', 'Surigao_Strait', 'ok'),\n",
       " ('Yamashiro', 'Surigao_Strait', 'sunk')]"
      ]
     },
     "execution_count": 5,
     "metadata": {},
     "output_type": "execute_result"
    }
   ],
   "source": [
    "engine.execute(\"Select * FROM Outcomes\").fetchall()"
   ]
  },
  {
   "cell_type": "code",
   "execution_count": 6,
   "metadata": {},
   "outputs": [
    {
     "data": {
      "text/html": [
       "<div>\n",
       "<style scoped>\n",
       "    .dataframe tbody tr th:only-of-type {\n",
       "        vertical-align: middle;\n",
       "    }\n",
       "\n",
       "    .dataframe tbody tr th {\n",
       "        vertical-align: top;\n",
       "    }\n",
       "\n",
       "    .dataframe thead th {\n",
       "        text-align: right;\n",
       "    }\n",
       "</style>\n",
       "<table border=\"1\" class=\"dataframe\">\n",
       "  <thead>\n",
       "    <tr style=\"text-align: right;\">\n",
       "      <th></th>\n",
       "      <th>battle</th>\n",
       "      <th>result</th>\n",
       "    </tr>\n",
       "    <tr>\n",
       "      <th>ship</th>\n",
       "      <th></th>\n",
       "      <th></th>\n",
       "    </tr>\n",
       "  </thead>\n",
       "  <tbody>\n",
       "    <tr>\n",
       "      <th>Bismarck</th>\n",
       "      <td>North_Atlantic</td>\n",
       "      <td>sunk</td>\n",
       "    </tr>\n",
       "    <tr>\n",
       "      <th>California</th>\n",
       "      <td>Guadalcanal</td>\n",
       "      <td>damaged</td>\n",
       "    </tr>\n",
       "    <tr>\n",
       "      <th>CAlifornia</th>\n",
       "      <td>Surigao_Strait</td>\n",
       "      <td>ok</td>\n",
       "    </tr>\n",
       "    <tr>\n",
       "      <th>Duke_of_York</th>\n",
       "      <td>North_Cape</td>\n",
       "      <td>ok</td>\n",
       "    </tr>\n",
       "    <tr>\n",
       "      <th>Fuso</th>\n",
       "      <td>Surigao_Strait</td>\n",
       "      <td>sunk</td>\n",
       "    </tr>\n",
       "    <tr>\n",
       "      <th>Hood</th>\n",
       "      <td>North_Atlantic</td>\n",
       "      <td>sunk</td>\n",
       "    </tr>\n",
       "    <tr>\n",
       "      <th>King_George_V</th>\n",
       "      <td>North_Atlantic</td>\n",
       "      <td>ok</td>\n",
       "    </tr>\n",
       "    <tr>\n",
       "      <th>Kirishima</th>\n",
       "      <td>Guadalcanal</td>\n",
       "      <td>sunk</td>\n",
       "    </tr>\n",
       "    <tr>\n",
       "      <th>Prince_of_Wales</th>\n",
       "      <td>North_Atlantic</td>\n",
       "      <td>damaged</td>\n",
       "    </tr>\n",
       "    <tr>\n",
       "      <th>Rodney</th>\n",
       "      <td>North_Atlantic</td>\n",
       "      <td>OK</td>\n",
       "    </tr>\n",
       "    <tr>\n",
       "      <th>Schamhorst</th>\n",
       "      <td>North_Cape</td>\n",
       "      <td>sunk</td>\n",
       "    </tr>\n",
       "    <tr>\n",
       "      <th>South_Dakota</th>\n",
       "      <td>Guadalcanal</td>\n",
       "      <td>damaged</td>\n",
       "    </tr>\n",
       "    <tr>\n",
       "      <th>Tennessee</th>\n",
       "      <td>Surigao_Strait</td>\n",
       "      <td>ok</td>\n",
       "    </tr>\n",
       "    <tr>\n",
       "      <th>Washington</th>\n",
       "      <td>Guadalcanal</td>\n",
       "      <td>ok</td>\n",
       "    </tr>\n",
       "    <tr>\n",
       "      <th>West_Virginia</th>\n",
       "      <td>Surigao_Strait</td>\n",
       "      <td>ok</td>\n",
       "    </tr>\n",
       "    <tr>\n",
       "      <th>Yamashiro</th>\n",
       "      <td>Surigao_Strait</td>\n",
       "      <td>sunk</td>\n",
       "    </tr>\n",
       "  </tbody>\n",
       "</table>\n",
       "</div>"
      ],
      "text/plain": [
       "                         battle   result\n",
       "ship                                    \n",
       "Bismarck         North_Atlantic     sunk\n",
       "California          Guadalcanal  damaged\n",
       "CAlifornia       Surigao_Strait       ok\n",
       "Duke_of_York         North_Cape       ok\n",
       "Fuso             Surigao_Strait     sunk\n",
       "Hood             North_Atlantic     sunk\n",
       "King_George_V    North_Atlantic       ok\n",
       "Kirishima           Guadalcanal     sunk\n",
       "Prince_of_Wales  North_Atlantic  damaged\n",
       "Rodney           North_Atlantic       OK\n",
       "Schamhorst           North_Cape     sunk\n",
       "South_Dakota        Guadalcanal  damaged\n",
       "Tennessee        Surigao_Strait       ok\n",
       "Washington          Guadalcanal       ok\n",
       "West_Virginia    Surigao_Strait       ok\n",
       "Yamashiro        Surigao_Strait     sunk"
      ]
     },
     "execution_count": 6,
     "metadata": {},
     "output_type": "execute_result"
    }
   ],
   "source": [
    "df_classes = pd.read_excel(direction + 'Outcomes.xlsx', index_col = 'ship')\n",
    "df_classes"
   ]
  },
  {
   "cell_type": "markdown",
   "metadata": {},
   "source": [
    "Данные из созданной БД совпадают с Excel."
   ]
  },
  {
   "cell_type": "markdown",
   "metadata": {},
   "source": [
    "## 2. Задача по выборке данных из БД.\n",
    "\n",
    "Задача №51 с сайта sql-ex.ru:  \n",
    "*Найдите названия кораблей, имеющих наибольшее число орудий среди всех имеющихся кораблей такого же водоизмещения (учесть корабли из таблицы Outcomes).*\n",
    "\n",
    "Импортируем модуль *sqlite3*. Подключаемся к БД и создаем курсор."
   ]
  },
  {
   "cell_type": "code",
   "execution_count": 7,
   "metadata": {},
   "outputs": [],
   "source": [
    "import sqlite3\n",
    "#Подключение к базе\n",
    "connection = sqlite3.connect(dbfile)\n",
    "#Создание курсора\n",
    "cursor = connection.cursor()"
   ]
  },
  {
   "cell_type": "markdown",
   "metadata": {},
   "source": [
    "**Формирование запроса:**"
   ]
  },
  {
   "cell_type": "code",
   "execution_count": 8,
   "metadata": {},
   "outputs": [],
   "source": [
    "searchText = \"\"\"\n",
    "WITH maxguns AS (\n",
    "SELECT MAX(numGuns) as ng, displacement\n",
    "FROM Classes\n",
    "WHERE class in (SELECT class FROM ships) or\n",
    "class in (SELECT ship FROM outcomes)\n",
    "GROUP BY displacement)\n",
    "\n",
    "SELECT name\n",
    "FROM Ships s JOIN Classes c ON\n",
    "s.class=c.class JOIN maxguns m ON\n",
    "c.displacement=m.displacement\n",
    "WHERE numGuns=ng\n",
    "UNION\n",
    "SELECT ship\n",
    "FROM Outcomes o JOIN Classes c ON\n",
    "o.ship=c.class JOIN maxguns m ON\n",
    "c.displacement=m.displacement\n",
    "WHERE numGuns=ng\n",
    "\"\"\" "
   ]
  },
  {
   "cell_type": "markdown",
   "metadata": {},
   "source": [
    "**Непосредственно сам запрос и вывод данных:**"
   ]
  },
  {
   "cell_type": "code",
   "execution_count": 9,
   "metadata": {},
   "outputs": [
    {
     "name": "stdout",
     "output_type": "stream",
     "text": [
      "Bismarck\n",
      "California\n",
      "Iowa\n",
      "Missouri\n",
      "Musashi\n",
      "New_Jersey\n",
      "North_Carolina\n",
      "Ramillies\n",
      "Revenge\n",
      "Royal_Oak\n",
      "Royal_Sovereign\n",
      "South_Dakota\n",
      "Tennessee\n",
      "Washington\n",
      "Wisconsin\n",
      "Yamato\n"
     ]
    }
   ],
   "source": [
    "# Выборка из таблицы\n",
    "try:\n",
    "    rows = cursor.execute(searchText)\n",
    "    for row in rows:\n",
    "        print(row[0])\n",
    "except sqlite3.OperationalError:\n",
    "    pass"
   ]
  },
  {
   "cell_type": "code",
   "execution_count": 10,
   "metadata": {},
   "outputs": [],
   "source": [
    "#Подтверждение отправки данных в базу\n",
    "connection.commit()\n",
    "#Завершение соединения\n",
    "cursor.close()\n",
    "connection.close()"
   ]
  },
  {
   "cell_type": "markdown",
   "metadata": {},
   "source": [
    "**Ответ соответствует защитанному на сайте sql-ex.ru:**"
   ]
  },
  {
   "attachments": {
    "51.jpg": {
     "image/jpeg": "[encoded data removed]"
    }
   },
   "cell_type": "markdown",
   "metadata": {},
   "source": [
    "![51.jpg](attachment:51.jpg)"
   ]
  }
 ],
 "metadata": {
  "kernelspec": {
   "display_name": "Python 3",
   "language": "python",
   "name": "python3"
  },
  "language_info": {
   "codemirror_mode": {
    "name": "ipython",
    "version": 3
   },
   "file_extension": ".py",
   "mimetype": "text/x-python",
   "name": "python",
   "nbconvert_exporter": "python",
   "pygments_lexer": "ipython3",
   "version": "3.7.3"
  }
 },
 "nbformat": 4,
 "nbformat_minor": 2
}
