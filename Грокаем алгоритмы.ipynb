{
 "cells": [
  {
   "cell_type": "markdown",
   "metadata": {},
   "source": [
    "# Примеры и размышления при прочтении книги \"Грокаем алкоритмы\" автор: Адитья Бхаргава\n"
   ]
  },
  {
   "cell_type": "markdown",
   "metadata": {},
   "source": [
    "# Оглавление  \n",
    "[Бинарный поиск](#Бинарный-поиск)  \n",
    "[Рекурсия](#Рекурсия)  \n",
    "[Расчет-факториала](#Расчет-факториала)  \n",
    "[Бинарный-поиск-(не-из-книги)](#Бинарный-поиск-(не-из-книги))  \n",
    "[Нахождение-максимума-в-массиве](#Нахождение-максимума-в-массиве)  \n",
    "[Функция-sum-через-рекурсию](#Функция-sum-через-рекурсию)  \n",
    "[Подсчет-элементов-в-списке](#Подсчет-элементов-в-списке)  \n",
    "[Найти-наибольшее-число-в-списке](#Найти-наибольшее-число-в-списке)  \n",
    "[Бинарный-поиск-через-\"Разделяй-и-властвуй](#Бинарный-поиск-через-\"Разделяй-и-властвуй\")  \n",
    "[Поиск-в-ширину-(графы)](#Поиск-в-ширину-(графы))  \n",
    "[Разбор-способов-добавления-элементов-deque](#Разбор-способов-добавления-элементов-deque)  \n",
    "[Алгоритм-Дейкстры](#Алгоритм-Дейкстры)  "
   ]
  },
  {
   "cell_type": "markdown",
   "metadata": {},
   "source": [
    "# Бинарный поиск"
   ]
  },
  {
   "cell_type": "code",
   "execution_count": 1,
   "metadata": {},
   "outputs": [
    {
     "name": "stdout",
     "output_type": "stream",
     "text": [
      "1\n",
      "None\n"
     ]
    }
   ],
   "source": [
    "class BinarySearch():\n",
    "\n",
    "  def search_iterative(self, list, item):\n",
    "    # low and high keep track of which part of the list you'll search in.\n",
    "    low = 0\n",
    "    high = len(list) - 1\n",
    "\n",
    "    # While you haven't narrowed it down to one element ...\n",
    "    while low <= high:\n",
    "      # ... check the middle element\n",
    "      mid = (low + high) // 2\n",
    "      guess = list[mid]\n",
    "      # Found the item.\n",
    "      if guess == item:\n",
    "        return mid\n",
    "      # The guess was too high.\n",
    "      if guess > item:\n",
    "        high = mid - 1\n",
    "      # The guess was too low.\n",
    "      else:\n",
    "        low = mid + 1\n",
    "\n",
    "    # Item doesn't exist\n",
    "    return None\n",
    "\n",
    "  def search_recursive(self, list, low, high, item):\n",
    "    # Check base case \n",
    "    if high >= low: \n",
    "  \n",
    "        mid = (high + low) // 2\n",
    "        guess = list[mid]\n",
    "  \n",
    "        # If element is present at the middle itself \n",
    "        if guess == item:\n",
    "            return mid \n",
    "  \n",
    "        # If element is smaller than mid, then it can only \n",
    "        # be present in left subarray \n",
    "        elif guess > item: \n",
    "            return self.search_recursive(list, low, mid - 1, item) \n",
    "  \n",
    "        # Else the element can only be present in right subarray \n",
    "        else: \n",
    "            return self.search_recursive(list, mid + 1, high, item) \n",
    "  \n",
    "    else: \n",
    "        # Element is not present in the array \n",
    "        return None\n",
    "\n",
    "if __name__ == \"__main__\":\n",
    "  # We must initialize the class to use the methods of this class\n",
    "  bs = BinarySearch()\n",
    "  my_list = [1, 3, 5, 7, 9]\n",
    "  \n",
    "  print(bs.search_iterative(my_list, 3)) # => 1\n",
    "\n",
    "  # 'None' means nil in Python. We use to indicate that the item wasn't found.\n",
    "  print(bs.search_iterative(my_list, -1)) # => None"
   ]
  },
  {
   "cell_type": "markdown",
   "metadata": {},
   "source": [
    "Класс автора возвращает порядковый номер числа в последовательности. Чтобы имитировать укадайку, нужно немного переписать код."
   ]
  },
  {
   "cell_type": "code",
   "execution_count": 3,
   "metadata": {},
   "outputs": [],
   "source": [
    "def guessNumber(start: int, end: int, item: int) -> str:\n",
    "            \n",
    "    parametr = [start, end, item]\n",
    "    for p in parametr:\n",
    "        if not isinstance(p, int):\n",
    "            return f\"{p} не является число. Введите число!\"\n",
    "        if p < 0:\n",
    "            return f\"{p} меньше нуля, необходимо указать числа больше нуля\"\n",
    "        \n",
    "    massive = list(range(start, end)) \n",
    "    high = len(massive) - 1\n",
    "    low = 0\n",
    "\n",
    "    while high >= low:\n",
    "        print(high, low)\n",
    "        mid = (high+low) // 2   \n",
    "        if massive[mid] == item:\n",
    "            return f\"Вы загадали {massive[mid]}\"\n",
    "        if massive[mid] > item:\n",
    "            high = massive[mid] - 1\n",
    "        else:\n",
    "            low = massive[mid] + 1\n",
    "    \n",
    "    return f\"Вы загадали число вне диапазона от {start} до {end}\""
   ]
  },
  {
   "cell_type": "code",
   "execution_count": 7,
   "metadata": {},
   "outputs": [
    {
     "name": "stdout",
     "output_type": "stream",
     "text": [
      "99 0\n",
      "99 50\n",
      "73 50\n",
      "60 50\n",
      "60 56\n",
      "57 56\n"
     ]
    },
    {
     "data": {
      "text/plain": [
       "'Вы загадали 56'"
      ]
     },
     "execution_count": 7,
     "metadata": {},
     "output_type": "execute_result"
    }
   ],
   "source": [
    "guessNumber(0, 100, 56)"
   ]
  },
  {
   "cell_type": "markdown",
   "metadata": {},
   "source": [
    "# Рекурсия\n"
   ]
  },
  {
   "cell_type": "markdown",
   "metadata": {},
   "source": [
    "### Счет вниз"
   ]
  },
  {
   "cell_type": "code",
   "execution_count": 42,
   "metadata": {},
   "outputs": [
    {
     "name": "stdout",
     "output_type": "stream",
     "text": [
      "5\n",
      "4\n",
      "3\n",
      "2\n",
      "1\n"
     ]
    },
    {
     "data": {
      "text/plain": [
       "0"
      ]
     },
     "execution_count": 42,
     "metadata": {},
     "output_type": "execute_result"
    }
   ],
   "source": [
    "# Авторский код\n",
    "def countdown(i):\n",
    "  # base case\n",
    "  if i <= 0:\n",
    "    return 0\n",
    "  # recursive case\n",
    "  else:\n",
    "    print(i)\n",
    "    return countdown(i-1)\n",
    "\n",
    "countdown(5)"
   ]
  },
  {
   "cell_type": "code",
   "execution_count": 43,
   "metadata": {},
   "outputs": [
    {
     "name": "stdout",
     "output_type": "stream",
     "text": [
      "5\n",
      "4\n",
      "3\n",
      "2\n",
      "1\n",
      "0\n"
     ]
    }
   ],
   "source": [
    "# Мой код:\n",
    "def countDown(n):    \n",
    "    if n > 0:\n",
    "        print(n)\n",
    "        countDown(n-1)\n",
    "    else:\n",
    "        print(n)\n",
    "countDown(5)"
   ]
  },
  {
   "cell_type": "code",
   "execution_count": 40,
   "metadata": {},
   "outputs": [],
   "source": [
    "# Мой код с массивами:\n",
    "def countDown(n, arr=[]):\n",
    "    \n",
    "    if n > 0:\n",
    "        arr.append(n)\n",
    "        countDown(n-1, arr)\n",
    "    else:\n",
    "        arr.append(n)\n",
    "    return arr"
   ]
  },
  {
   "cell_type": "code",
   "execution_count": 41,
   "metadata": {
    "scrolled": true
   },
   "outputs": [
    {
     "data": {
      "text/plain": [
       "[3, 2, 1, 0]"
      ]
     },
     "execution_count": 41,
     "metadata": {},
     "output_type": "execute_result"
    }
   ],
   "source": [
    "countDown(3)"
   ]
  },
  {
   "cell_type": "markdown",
   "metadata": {},
   "source": [
    "### Расчет факториала"
   ]
  },
  {
   "cell_type": "code",
   "execution_count": 12,
   "metadata": {},
   "outputs": [],
   "source": [
    "def factorial(n):\n",
    "    if n==1:\n",
    "        return 1\n",
    "    else:\n",
    "        return n * factorial(n-1)           "
   ]
  },
  {
   "cell_type": "code",
   "execution_count": 14,
   "metadata": {},
   "outputs": [
    {
     "data": {
      "text/plain": [
       "120"
      ]
     },
     "execution_count": 14,
     "metadata": {},
     "output_type": "execute_result"
    }
   ],
   "source": [
    "factorial(5)"
   ]
  },
  {
   "cell_type": "markdown",
   "metadata": {},
   "source": [
    "### Бинарный поиск (не из книги)"
   ]
  },
  {
   "cell_type": "code",
   "execution_count": 45,
   "metadata": {},
   "outputs": [
    {
     "name": "stdout",
     "output_type": "stream",
     "text": [
      "8\n",
      "6\n"
     ]
    }
   ],
   "source": [
    "# Код автора с гитхаба (нет в книге)\n",
    "def binary_search(arr, target):\n",
    "    if not arr:\n",
    "        return -1\n",
    "\n",
    "    low = 0\n",
    "    high = len(arr) - 1\n",
    "    mid = (low + high) // 2\n",
    "\n",
    "    if arr[mid] == target:\n",
    "        return target\n",
    "    elif arr[mid] > target:\n",
    "        return binary_search(arr[:mid], target)\n",
    "    else:\n",
    "        return binary_search(arr[mid+1:], target)\n",
    "\n",
    "\n",
    "print(binary_search([6, 7, 8, 9, 10], 8))\n",
    "print(binary_search([6, 7, 8, 9, 10], 6))"
   ]
  },
  {
   "cell_type": "code",
   "execution_count": 71,
   "metadata": {},
   "outputs": [],
   "source": [
    "# Мой код\n",
    "def binary_search_recursion(arr, target):\n",
    "    # Условие позволяет избегать ошибки IndexError: list index out of range\n",
    "    if not arr: # Если список пуст!!!\n",
    "        return -1\n",
    "    \n",
    "    low = 0\n",
    "    high = len(arr) - 1\n",
    "    mid = (low + high) // 2\n",
    "    \n",
    "    if arr[mid] == target:\n",
    "        return(target)\n",
    "    elif arr[mid] > target:\n",
    "        return binary_search_recursion(arr[:mid], target)\n",
    "    elif arr[mid] < target:\n",
    "        return binary_search_recursion(arr[mid + 1:], target)\n",
    "#     else:\n",
    "#         return (f\"{target} вне указанного массива.\") # Будет ошибка IndexError: list index out of range\n",
    "        "
   ]
  },
  {
   "cell_type": "code",
   "execution_count": 72,
   "metadata": {},
   "outputs": [
    {
     "name": "stdout",
     "output_type": "stream",
     "text": [
      "10\n",
      "8\n",
      "-1\n"
     ]
    }
   ],
   "source": [
    "print(binary_search_recursion([6, 7, 8, 9, 10], 10))\n",
    "print(binary_search_recursion([6, 7, 8, 9, 10], 8))\n",
    "print(binary_search_recursion([6, 7, 8, 9, 10], 11))"
   ]
  },
  {
   "cell_type": "markdown",
   "metadata": {},
   "source": [
    "### Нахождение максимума в массиве"
   ]
  },
  {
   "cell_type": "markdown",
   "metadata": {},
   "source": [
    "(не было в книге)"
   ]
  },
  {
   "cell_type": "code",
   "execution_count": 113,
   "metadata": {},
   "outputs": [],
   "source": [
    "def find_max(arr):\n",
    "    if not arr:\n",
    "        return -1\n",
    "    if len(arr) == 1:\n",
    "        return arr[0]\n",
    "    \n",
    "    elif len(arr) == 2:\n",
    "        return arr[0] if arr[0] > arr[1] else arr[1]\n",
    "    \n",
    "    sub_max = find_max(arr[1:])\n",
    "    return arr[0] if arr[0] > sub_max else sub_max"
   ]
  },
  {
   "cell_type": "code",
   "execution_count": 116,
   "metadata": {},
   "outputs": [
    {
     "data": {
      "text/plain": [
       "259"
      ]
     },
     "execution_count": 116,
     "metadata": {},
     "output_type": "execute_result"
    }
   ],
   "source": [
    "find_max([5, 6, 9, 100, 56, 259])"
   ]
  },
  {
   "cell_type": "markdown",
   "metadata": {},
   "source": [
    "### Функция sum через рекурсию"
   ]
  },
  {
   "cell_type": "code",
   "execution_count": 51,
   "metadata": {},
   "outputs": [],
   "source": [
    "def find_sum(arr):\n",
    "    if not arr:\n",
    "        return 0\n",
    "    \n",
    "    return arr[0] + find_sum(arr[1:])"
   ]
  },
  {
   "cell_type": "code",
   "execution_count": 52,
   "metadata": {},
   "outputs": [
    {
     "data": {
      "text/plain": [
       "18"
      ]
     },
     "execution_count": 52,
     "metadata": {},
     "output_type": "execute_result"
    }
   ],
   "source": [
    "find_sum([1,2,3,5,7])"
   ]
  },
  {
   "cell_type": "markdown",
   "metadata": {},
   "source": [
    "### Подсчет элементов в списке"
   ]
  },
  {
   "cell_type": "code",
   "execution_count": 53,
   "metadata": {},
   "outputs": [],
   "source": [
    "def count_element(lst):\n",
    "    \n",
    "    if not lst:\n",
    "        return 0\n",
    "    \n",
    "    return 1 + count_element(lst[1:])"
   ]
  },
  {
   "cell_type": "code",
   "execution_count": 54,
   "metadata": {},
   "outputs": [
    {
     "data": {
      "text/plain": [
       "6"
      ]
     },
     "execution_count": 54,
     "metadata": {},
     "output_type": "execute_result"
    }
   ],
   "source": [
    "count_element([1,2,3,4,5,6])"
   ]
  },
  {
   "cell_type": "markdown",
   "metadata": {},
   "source": [
    "### Найти наибольшее число в списке"
   ]
  },
  {
   "cell_type": "code",
   "execution_count": 41,
   "metadata": {},
   "outputs": [],
   "source": [
    "def find_max(lst):\n",
    "    if not lst:\n",
    "        return -1\n",
    "    if len(lst) == 1:\n",
    "        return lst[0]\n",
    "    \n",
    "    if len(lst) == 2:\n",
    "        return lst[0] if lst[0] > lst[1] else lst[1]\n",
    "    \n",
    "    find_dop = find_max(lst[1:])\n",
    "    return lst[0] if lst[0] > find_dop else find_dop"
   ]
  },
  {
   "cell_type": "code",
   "execution_count": 42,
   "metadata": {},
   "outputs": [
    {
     "data": {
      "text/plain": [
       "86"
      ]
     },
     "execution_count": 42,
     "metadata": {},
     "output_type": "execute_result"
    }
   ],
   "source": [
    "find_max([7, 86, 42, 9])"
   ]
  },
  {
   "cell_type": "markdown",
   "metadata": {},
   "source": [
    "### Бинарный поиск через \"Разделяй и властвуй\""
   ]
  },
  {
   "cell_type": "code",
   "execution_count": 43,
   "metadata": {},
   "outputs": [],
   "source": [
    "def bin_search(lst, target):\n",
    "    if not lst:\n",
    "        return -1\n",
    "    \n",
    "    low = 0\n",
    "    high = len(lst) - 1\n",
    "    mid= (low +  high) // 2\n",
    "    \n",
    "    if lst[mid] == target:\n",
    "        return target\n",
    "\n",
    "    return bin_search(lst[:mid], target) if target < lst[mid] else bin_search(lst[mid + 1:], target)       \n",
    "        "
   ]
  },
  {
   "cell_type": "code",
   "execution_count": 50,
   "metadata": {},
   "outputs": [
    {
     "data": {
      "text/plain": [
       "5"
      ]
     },
     "execution_count": 50,
     "metadata": {},
     "output_type": "execute_result"
    }
   ],
   "source": [
    "bin_search([1,2,3,4,5,6,7,8,9,10], 5)"
   ]
  },
  {
   "cell_type": "markdown",
   "metadata": {},
   "source": [
    "### Поиск в ширину (графы)"
   ]
  },
  {
   "cell_type": "code",
   "execution_count": 11,
   "metadata": {},
   "outputs": [
    {
     "name": "stdout",
     "output_type": "stream",
     "text": [
      "thom is a mango seller!\n"
     ]
    },
    {
     "data": {
      "text/plain": [
       "True"
      ]
     },
     "execution_count": 11,
     "metadata": {},
     "output_type": "execute_result"
    }
   ],
   "source": [
    "from collections import deque\n",
    "\n",
    "def person_is_seller(name):\n",
    "      return name[-1] == 'm' # Интересная конструкция. Я бы проверку с If Делал!! Оказывается можно сразу вернуть True or False!\n",
    "\n",
    "graph = {}\n",
    "graph[\"you\"] = [\"alice\", \"bob\", \"claire\"]\n",
    "graph[\"bob\"] = [\"anuj\", \"peggy\"]\n",
    "graph[\"alice\"] = [\"peggy\"]\n",
    "graph[\"claire\"] = [\"thom\", \"jonny\"]\n",
    "graph[\"anuj\"] = []\n",
    "graph[\"peggy\"] = []\n",
    "graph[\"thom\"] = []\n",
    "graph[\"jonny\"] = []\n",
    "\n",
    "def search(name):\n",
    "    search_queue = deque() # создание очереди\n",
    "    search_queue += [name] # Добавлние имени в очередь\n",
    "    # This is how you keep track of which people you've searched before.\n",
    "    searched = set() # создание множества для имен, уже проверенных\n",
    "    while search_queue: # Пока есть имена в очереди, работает цикл\n",
    "        person = search_queue.popleft() # Берем имя из очедеди\n",
    "        # Only search this person if you haven't already searched them.\n",
    "        if person in searched: # Проверяли ли имя?\n",
    "            continue\n",
    "        if person_is_seller(person): # Удовлетворяет ли нашему условию поиска?\n",
    "            print(person + \" is a mango seller!\")\n",
    "            return True\n",
    "        search_queue += graph[person] # Нельзя append, т.к. добавит список, а не отдельные значения. И будет ошибка в 24 строчке: TypeError: unhashable type: 'list'\n",
    "        # Marks this person as searched\n",
    "        searched.add(person) # Добавляем в проверенные\n",
    "    return False\n",
    "\n",
    "search(\"you\")"
   ]
  },
  {
   "cell_type": "markdown",
   "metadata": {},
   "source": [
    "### Разбор способов добавления элементов `deque`"
   ]
  },
  {
   "cell_type": "markdown",
   "metadata": {},
   "source": [
    "`deque` ведет себя как и список. Если один элемент, то добавлять через `append`. Если добавляется список, то, чтобы добавить по-элементно, нужно записывать `deque += list`"
   ]
  },
  {
   "cell_type": "code",
   "execution_count": 12,
   "metadata": {},
   "outputs": [],
   "source": [
    "search_queue1 = deque()"
   ]
  },
  {
   "cell_type": "code",
   "execution_count": 17,
   "metadata": {},
   "outputs": [
    {
     "data": {
      "text/plain": [
       "collections.deque"
      ]
     },
     "execution_count": 17,
     "metadata": {},
     "output_type": "execute_result"
    }
   ],
   "source": [
    "type(search_queue1)"
   ]
  },
  {
   "cell_type": "code",
   "execution_count": 14,
   "metadata": {},
   "outputs": [],
   "source": [
    "search_queue1 += 'you'"
   ]
  },
  {
   "cell_type": "code",
   "execution_count": 16,
   "metadata": {},
   "outputs": [],
   "source": [
    "search_queue1.append('we')"
   ]
  },
  {
   "cell_type": "code",
   "execution_count": 18,
   "metadata": {},
   "outputs": [
    {
     "name": "stdout",
     "output_type": "stream",
     "text": [
      "y\n",
      "o\n",
      "u\n",
      "we\n"
     ]
    }
   ],
   "source": [
    "for i in search_queue1:\n",
    "    print(i)"
   ]
  },
  {
   "cell_type": "code",
   "execution_count": 19,
   "metadata": {},
   "outputs": [],
   "source": [
    "search_queue1 += graph[\"you\"]"
   ]
  },
  {
   "cell_type": "code",
   "execution_count": 20,
   "metadata": {},
   "outputs": [
    {
     "name": "stdout",
     "output_type": "stream",
     "text": [
      "y\n",
      "o\n",
      "u\n",
      "we\n",
      "alice\n",
      "bob\n",
      "claire\n"
     ]
    }
   ],
   "source": [
    "for i in search_queue1:\n",
    "    print(i)"
   ]
  },
  {
   "cell_type": "code",
   "execution_count": 21,
   "metadata": {},
   "outputs": [],
   "source": [
    "search_queue1.append(graph[\"bob\"])"
   ]
  },
  {
   "cell_type": "code",
   "execution_count": 22,
   "metadata": {},
   "outputs": [
    {
     "name": "stdout",
     "output_type": "stream",
     "text": [
      "y\n",
      "o\n",
      "u\n",
      "we\n",
      "alice\n",
      "bob\n",
      "claire\n",
      "['anuj', 'peggy']\n"
     ]
    }
   ],
   "source": [
    "for i in search_queue1:\n",
    "    print(i)"
   ]
  },
  {
   "cell_type": "markdown",
   "metadata": {},
   "source": [
    "### Алгоритм Дейкстры"
   ]
  },
  {
   "cell_type": "code",
   "execution_count": 1,
   "metadata": {},
   "outputs": [
    {
     "name": "stdout",
     "output_type": "stream",
     "text": [
      "Cost from the start to each node:\n",
      "{'a': 5, 'b': 2, 'fin': 6}\n"
     ]
    }
   ],
   "source": [
    "# the graph\n",
    "graph = {}\n",
    "graph[\"start\"] = {}\n",
    "graph[\"start\"][\"a\"] = 6\n",
    "graph[\"start\"][\"b\"] = 2\n",
    "\n",
    "graph[\"a\"] = {}\n",
    "graph[\"a\"][\"fin\"] = 1\n",
    "\n",
    "graph[\"b\"] = {}\n",
    "graph[\"b\"][\"a\"] = 3\n",
    "graph[\"b\"][\"fin\"] = 5\n",
    "\n",
    "graph[\"fin\"] = {}\n",
    "\n",
    "# the costs table\n",
    "infinity = float(\"inf\")\n",
    "costs = {}\n",
    "costs[\"a\"] = 6\n",
    "costs[\"b\"] = 2\n",
    "costs[\"fin\"] = infinity\n",
    "\n",
    "# the parents table\n",
    "parents = {}\n",
    "parents[\"a\"] = \"start\"\n",
    "parents[\"b\"] = \"start\"\n",
    "parents[\"fin\"] = None\n",
    "\n",
    "processed = []\n",
    "\n",
    "def find_lowest_cost_node(costs):\n",
    "    lowest_cost = float(\"inf\")\n",
    "    lowest_cost_node = None\n",
    "    # Go through each node.\n",
    "    for node in costs: # {'a': 6, 'b': 2, 'fin': infinity} → {'a': 5, 'b': 2, 'fin': 6}\n",
    "        cost = costs[node]\n",
    "        # If it's the lowest cost so far and hasn't been processed yet...\n",
    "        if cost < lowest_cost and node not in processed:\n",
    "            # ... set it as the new lowest-cost node.\n",
    "            lowest_cost = cost\n",
    "            lowest_cost_node = node\n",
    "    return lowest_cost_node\n",
    "\n",
    "# Find the lowest-cost node that you haven't processed yet.\n",
    "node = find_lowest_cost_node(costs)\n",
    "# If you've processed all the nodes, this while loop is done.\n",
    "while node is not None:\n",
    "    cost = costs[node]\n",
    "    # Go through all the neighbors of this node.\n",
    "    # {'start': {'a': 6, 'b': 2},\n",
    "    #  'a': {'fin': 1},\n",
    "    #  'b': {'a': 3, 'fin': 5},\n",
    "    #  'fin': {}}\n",
    "    neighbors = graph[node]\n",
    "    for n in neighbors.keys():\n",
    "        new_cost = cost + neighbors[n]\n",
    "        # If it's cheaper to get to this neighbor by going through this node...\n",
    "        if costs[n] > new_cost:\n",
    "            # ... update the cost for this node.\n",
    "            costs[n] = new_cost\n",
    "            # This node becomes the new parent for this neighbor.\n",
    "            parents[n] = node\n",
    "    # Mark the node as processed.\n",
    "    processed.append(node)\n",
    "    # Find the next node to process, and loop.\n",
    "    node = find_lowest_cost_node(costs)\n",
    "\n",
    "print(\"Cost from the start to each node:\")\n",
    "print(costs)\n"
   ]
  },
  {
   "cell_type": "markdown",
   "metadata": {},
   "source": [
    "#### Разбор алгоритма Дейкстры"
   ]
  },
  {
   "cell_type": "code",
   "execution_count": 3,
   "metadata": {},
   "outputs": [
    {
     "data": {
      "text/plain": [
       "{'start': {'a': 6, 'b': 2},\n",
       " 'a': {'fin': 1},\n",
       " 'b': {'a': 3, 'fin': 5},\n",
       " 'fin': {}}"
      ]
     },
     "execution_count": 3,
     "metadata": {},
     "output_type": "execute_result"
    }
   ],
   "source": [
    "graph"
   ]
  },
  {
   "cell_type": "code",
   "execution_count": 5,
   "metadata": {},
   "outputs": [
    {
     "data": {
      "text/plain": [
       "dict_keys(['fin'])"
      ]
     },
     "execution_count": 5,
     "metadata": {},
     "output_type": "execute_result"
    }
   ],
   "source": [
    "graph['a'].keys()"
   ]
  },
  {
   "cell_type": "code",
   "execution_count": 7,
   "metadata": {},
   "outputs": [
    {
     "data": {
      "text/plain": [
       "{'a': 5, 'b': 2, 'fin': 6}"
      ]
     },
     "execution_count": 7,
     "metadata": {},
     "output_type": "execute_result"
    }
   ],
   "source": [
    "costs"
   ]
  },
  {
   "cell_type": "code",
   "execution_count": null,
   "metadata": {},
   "outputs": [],
   "source": []
  }
 ],
 "metadata": {
  "kernelspec": {
   "display_name": "Python 3",
   "language": "python",
   "name": "python3"
  },
  "language_info": {
   "codemirror_mode": {
    "name": "ipython",
    "version": 3
   },
   "file_extension": ".py",
   "mimetype": "text/x-python",
   "name": "python",
   "nbconvert_exporter": "python",
   "pygments_lexer": "ipython3",
   "version": "3.7.3"
  }
 },
 "nbformat": 4,
 "nbformat_minor": 2
}
